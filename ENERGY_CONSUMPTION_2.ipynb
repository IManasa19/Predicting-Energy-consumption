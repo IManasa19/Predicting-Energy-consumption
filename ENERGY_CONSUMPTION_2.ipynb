{
  "nbformat": 4,
  "nbformat_minor": 0,
  "metadata": {
    "colab": {
      "provenance": [],
      "gpuType": "T4",
      "include_colab_link": true
    },
    "kernelspec": {
      "name": "python3",
      "display_name": "Python 3"
    },
    "language_info": {
      "name": "python"
    },
    "accelerator": "GPU"
  },
  "cells": [
    {
      "cell_type": "markdown",
      "metadata": {
        "id": "view-in-github",
        "colab_type": "text"
      },
      "source": [
        "<a href=\"https://colab.research.google.com/github/IManasa19/Predicting-Energy-consumption/blob/main/ENERGY_CONSUMPTION_2.ipynb\" target=\"_parent\"><img src=\"https://colab.research.google.com/assets/colab-badge.svg\" alt=\"Open In Colab\"/></a>"
      ]
    },
    {
      "cell_type": "markdown",
      "source": [
        "#Step 1: Import Required Libraries\n",
        "First, ensure you have the required libraries installed."
      ],
      "metadata": {
        "id": "rAT-pYg2uLFN"
      }
    },
    {
      "cell_type": "code",
      "source": [
        "# Import libraries for data manipulation, visualization, and machine learning\n",
        "import pandas as pd\n",
        "import numpy as np\n",
        "import matplotlib.pyplot as plt\n",
        "import seaborn as sns\n",
        "from sklearn.model_selection import train_test_split\n",
        "from sklearn.preprocessing import StandardScaler\n",
        "from sklearn.ensemble import RandomForestRegressor\n",
        "from sklearn.tree import DecisionTreeRegressor\n",
        "from sklearn.ensemble import RandomForestRegressor\n",
        "from sklearn.svm import SVR\n",
        "from sklearn.metrics import mean_absolute_error, mean_squared_error, r2_score\n"
      ],
      "metadata": {
        "id": "smjpijEBuOgi"
      },
      "execution_count": 1,
      "outputs": []
    },
    {
      "cell_type": "code",
      "source": [],
      "metadata": {
        "id": "3AowMpA_VgaS"
      },
      "execution_count": null,
      "outputs": []
    },
    {
      "cell_type": "markdown",
      "source": [
        "# Step 2: Load the Dataset\n",
        "Assuming the dataset is either on your local system or hosted on a platform like Kaggle, you'll first need to load it into a DataFrame."
      ],
      "metadata": {
        "id": "4lk5iPiquUKP"
      }
    },
    {
      "cell_type": "code",
      "source": [
        "# Load dataset (replace with the actual path or use the Kaggle input directory)\n",
        "data = pd.read_csv('/content/Manasa_daily_dataset.csv')\n",
        "\n",
        "# Display the first few rows of the dataset\n",
        "data.head()"
      ],
      "metadata": {
        "colab": {
          "base_uri": "https://localhost:8080/",
          "height": 206
        },
        "id": "Vhw_WgReuPcP",
        "outputId": "091c4227-c54b-4c35-da82-f6d1cdede2f0"
      },
      "execution_count": 2,
      "outputs": [
        {
          "output_type": "execute_result",
          "data": {
            "text/plain": [
              "       LCLid         day  energy_median  energy_mean  energy_max  \\\n",
              "0  MAC000131  2011-12-15         0.4850     0.432045       0.868   \n",
              "1  MAC000131  2011-12-16         0.1415     0.296167       1.116   \n",
              "2  MAC000131  2011-12-17         0.1015     0.189812       0.685   \n",
              "3  MAC000131  2011-12-18         0.1140     0.218979       0.676   \n",
              "4  MAC000131  2011-12-19         0.1910     0.325979       0.788   \n",
              "\n",
              "   energy_count  energy_std  energy_sum  energy_min  \n",
              "0            22    0.239146       9.505       0.072  \n",
              "1            48    0.281471      14.216       0.031  \n",
              "2            48    0.188405       9.111       0.064  \n",
              "3            48    0.202919      10.511       0.065  \n",
              "4            48    0.259205      15.647       0.066  "
            ],
            "text/html": [
              "\n",
              "  <div id=\"df-f2c2cb97-edd9-4434-b862-04a07c5d89d5\" class=\"colab-df-container\">\n",
              "    <div>\n",
              "<style scoped>\n",
              "    .dataframe tbody tr th:only-of-type {\n",
              "        vertical-align: middle;\n",
              "    }\n",
              "\n",
              "    .dataframe tbody tr th {\n",
              "        vertical-align: top;\n",
              "    }\n",
              "\n",
              "    .dataframe thead th {\n",
              "        text-align: right;\n",
              "    }\n",
              "</style>\n",
              "<table border=\"1\" class=\"dataframe\">\n",
              "  <thead>\n",
              "    <tr style=\"text-align: right;\">\n",
              "      <th></th>\n",
              "      <th>LCLid</th>\n",
              "      <th>day</th>\n",
              "      <th>energy_median</th>\n",
              "      <th>energy_mean</th>\n",
              "      <th>energy_max</th>\n",
              "      <th>energy_count</th>\n",
              "      <th>energy_std</th>\n",
              "      <th>energy_sum</th>\n",
              "      <th>energy_min</th>\n",
              "    </tr>\n",
              "  </thead>\n",
              "  <tbody>\n",
              "    <tr>\n",
              "      <th>0</th>\n",
              "      <td>MAC000131</td>\n",
              "      <td>2011-12-15</td>\n",
              "      <td>0.4850</td>\n",
              "      <td>0.432045</td>\n",
              "      <td>0.868</td>\n",
              "      <td>22</td>\n",
              "      <td>0.239146</td>\n",
              "      <td>9.505</td>\n",
              "      <td>0.072</td>\n",
              "    </tr>\n",
              "    <tr>\n",
              "      <th>1</th>\n",
              "      <td>MAC000131</td>\n",
              "      <td>2011-12-16</td>\n",
              "      <td>0.1415</td>\n",
              "      <td>0.296167</td>\n",
              "      <td>1.116</td>\n",
              "      <td>48</td>\n",
              "      <td>0.281471</td>\n",
              "      <td>14.216</td>\n",
              "      <td>0.031</td>\n",
              "    </tr>\n",
              "    <tr>\n",
              "      <th>2</th>\n",
              "      <td>MAC000131</td>\n",
              "      <td>2011-12-17</td>\n",
              "      <td>0.1015</td>\n",
              "      <td>0.189812</td>\n",
              "      <td>0.685</td>\n",
              "      <td>48</td>\n",
              "      <td>0.188405</td>\n",
              "      <td>9.111</td>\n",
              "      <td>0.064</td>\n",
              "    </tr>\n",
              "    <tr>\n",
              "      <th>3</th>\n",
              "      <td>MAC000131</td>\n",
              "      <td>2011-12-18</td>\n",
              "      <td>0.1140</td>\n",
              "      <td>0.218979</td>\n",
              "      <td>0.676</td>\n",
              "      <td>48</td>\n",
              "      <td>0.202919</td>\n",
              "      <td>10.511</td>\n",
              "      <td>0.065</td>\n",
              "    </tr>\n",
              "    <tr>\n",
              "      <th>4</th>\n",
              "      <td>MAC000131</td>\n",
              "      <td>2011-12-19</td>\n",
              "      <td>0.1910</td>\n",
              "      <td>0.325979</td>\n",
              "      <td>0.788</td>\n",
              "      <td>48</td>\n",
              "      <td>0.259205</td>\n",
              "      <td>15.647</td>\n",
              "      <td>0.066</td>\n",
              "    </tr>\n",
              "  </tbody>\n",
              "</table>\n",
              "</div>\n",
              "    <div class=\"colab-df-buttons\">\n",
              "\n",
              "  <div class=\"colab-df-container\">\n",
              "    <button class=\"colab-df-convert\" onclick=\"convertToInteractive('df-f2c2cb97-edd9-4434-b862-04a07c5d89d5')\"\n",
              "            title=\"Convert this dataframe to an interactive table.\"\n",
              "            style=\"display:none;\">\n",
              "\n",
              "  <svg xmlns=\"http://www.w3.org/2000/svg\" height=\"24px\" viewBox=\"0 -960 960 960\">\n",
              "    <path d=\"M120-120v-720h720v720H120Zm60-500h600v-160H180v160Zm220 220h160v-160H400v160Zm0 220h160v-160H400v160ZM180-400h160v-160H180v160Zm440 0h160v-160H620v160ZM180-180h160v-160H180v160Zm440 0h160v-160H620v160Z\"/>\n",
              "  </svg>\n",
              "    </button>\n",
              "\n",
              "  <style>\n",
              "    .colab-df-container {\n",
              "      display:flex;\n",
              "      gap: 12px;\n",
              "    }\n",
              "\n",
              "    .colab-df-convert {\n",
              "      background-color: #E8F0FE;\n",
              "      border: none;\n",
              "      border-radius: 50%;\n",
              "      cursor: pointer;\n",
              "      display: none;\n",
              "      fill: #1967D2;\n",
              "      height: 32px;\n",
              "      padding: 0 0 0 0;\n",
              "      width: 32px;\n",
              "    }\n",
              "\n",
              "    .colab-df-convert:hover {\n",
              "      background-color: #E2EBFA;\n",
              "      box-shadow: 0px 1px 2px rgba(60, 64, 67, 0.3), 0px 1px 3px 1px rgba(60, 64, 67, 0.15);\n",
              "      fill: #174EA6;\n",
              "    }\n",
              "\n",
              "    .colab-df-buttons div {\n",
              "      margin-bottom: 4px;\n",
              "    }\n",
              "\n",
              "    [theme=dark] .colab-df-convert {\n",
              "      background-color: #3B4455;\n",
              "      fill: #D2E3FC;\n",
              "    }\n",
              "\n",
              "    [theme=dark] .colab-df-convert:hover {\n",
              "      background-color: #434B5C;\n",
              "      box-shadow: 0px 1px 3px 1px rgba(0, 0, 0, 0.15);\n",
              "      filter: drop-shadow(0px 1px 2px rgba(0, 0, 0, 0.3));\n",
              "      fill: #FFFFFF;\n",
              "    }\n",
              "  </style>\n",
              "\n",
              "    <script>\n",
              "      const buttonEl =\n",
              "        document.querySelector('#df-f2c2cb97-edd9-4434-b862-04a07c5d89d5 button.colab-df-convert');\n",
              "      buttonEl.style.display =\n",
              "        google.colab.kernel.accessAllowed ? 'block' : 'none';\n",
              "\n",
              "      async function convertToInteractive(key) {\n",
              "        const element = document.querySelector('#df-f2c2cb97-edd9-4434-b862-04a07c5d89d5');\n",
              "        const dataTable =\n",
              "          await google.colab.kernel.invokeFunction('convertToInteractive',\n",
              "                                                    [key], {});\n",
              "        if (!dataTable) return;\n",
              "\n",
              "        const docLinkHtml = 'Like what you see? Visit the ' +\n",
              "          '<a target=\"_blank\" href=https://colab.research.google.com/notebooks/data_table.ipynb>data table notebook</a>'\n",
              "          + ' to learn more about interactive tables.';\n",
              "        element.innerHTML = '';\n",
              "        dataTable['output_type'] = 'display_data';\n",
              "        await google.colab.output.renderOutput(dataTable, element);\n",
              "        const docLink = document.createElement('div');\n",
              "        docLink.innerHTML = docLinkHtml;\n",
              "        element.appendChild(docLink);\n",
              "      }\n",
              "    </script>\n",
              "  </div>\n",
              "\n",
              "\n",
              "<div id=\"df-e6ad2a12-a8e7-4eb8-9c8f-ebb1d0e2b3f6\">\n",
              "  <button class=\"colab-df-quickchart\" onclick=\"quickchart('df-e6ad2a12-a8e7-4eb8-9c8f-ebb1d0e2b3f6')\"\n",
              "            title=\"Suggest charts\"\n",
              "            style=\"display:none;\">\n",
              "\n",
              "<svg xmlns=\"http://www.w3.org/2000/svg\" height=\"24px\"viewBox=\"0 0 24 24\"\n",
              "     width=\"24px\">\n",
              "    <g>\n",
              "        <path d=\"M19 3H5c-1.1 0-2 .9-2 2v14c0 1.1.9 2 2 2h14c1.1 0 2-.9 2-2V5c0-1.1-.9-2-2-2zM9 17H7v-7h2v7zm4 0h-2V7h2v10zm4 0h-2v-4h2v4z\"/>\n",
              "    </g>\n",
              "</svg>\n",
              "  </button>\n",
              "\n",
              "<style>\n",
              "  .colab-df-quickchart {\n",
              "      --bg-color: #E8F0FE;\n",
              "      --fill-color: #1967D2;\n",
              "      --hover-bg-color: #E2EBFA;\n",
              "      --hover-fill-color: #174EA6;\n",
              "      --disabled-fill-color: #AAA;\n",
              "      --disabled-bg-color: #DDD;\n",
              "  }\n",
              "\n",
              "  [theme=dark] .colab-df-quickchart {\n",
              "      --bg-color: #3B4455;\n",
              "      --fill-color: #D2E3FC;\n",
              "      --hover-bg-color: #434B5C;\n",
              "      --hover-fill-color: #FFFFFF;\n",
              "      --disabled-bg-color: #3B4455;\n",
              "      --disabled-fill-color: #666;\n",
              "  }\n",
              "\n",
              "  .colab-df-quickchart {\n",
              "    background-color: var(--bg-color);\n",
              "    border: none;\n",
              "    border-radius: 50%;\n",
              "    cursor: pointer;\n",
              "    display: none;\n",
              "    fill: var(--fill-color);\n",
              "    height: 32px;\n",
              "    padding: 0;\n",
              "    width: 32px;\n",
              "  }\n",
              "\n",
              "  .colab-df-quickchart:hover {\n",
              "    background-color: var(--hover-bg-color);\n",
              "    box-shadow: 0 1px 2px rgba(60, 64, 67, 0.3), 0 1px 3px 1px rgba(60, 64, 67, 0.15);\n",
              "    fill: var(--button-hover-fill-color);\n",
              "  }\n",
              "\n",
              "  .colab-df-quickchart-complete:disabled,\n",
              "  .colab-df-quickchart-complete:disabled:hover {\n",
              "    background-color: var(--disabled-bg-color);\n",
              "    fill: var(--disabled-fill-color);\n",
              "    box-shadow: none;\n",
              "  }\n",
              "\n",
              "  .colab-df-spinner {\n",
              "    border: 2px solid var(--fill-color);\n",
              "    border-color: transparent;\n",
              "    border-bottom-color: var(--fill-color);\n",
              "    animation:\n",
              "      spin 1s steps(1) infinite;\n",
              "  }\n",
              "\n",
              "  @keyframes spin {\n",
              "    0% {\n",
              "      border-color: transparent;\n",
              "      border-bottom-color: var(--fill-color);\n",
              "      border-left-color: var(--fill-color);\n",
              "    }\n",
              "    20% {\n",
              "      border-color: transparent;\n",
              "      border-left-color: var(--fill-color);\n",
              "      border-top-color: var(--fill-color);\n",
              "    }\n",
              "    30% {\n",
              "      border-color: transparent;\n",
              "      border-left-color: var(--fill-color);\n",
              "      border-top-color: var(--fill-color);\n",
              "      border-right-color: var(--fill-color);\n",
              "    }\n",
              "    40% {\n",
              "      border-color: transparent;\n",
              "      border-right-color: var(--fill-color);\n",
              "      border-top-color: var(--fill-color);\n",
              "    }\n",
              "    60% {\n",
              "      border-color: transparent;\n",
              "      border-right-color: var(--fill-color);\n",
              "    }\n",
              "    80% {\n",
              "      border-color: transparent;\n",
              "      border-right-color: var(--fill-color);\n",
              "      border-bottom-color: var(--fill-color);\n",
              "    }\n",
              "    90% {\n",
              "      border-color: transparent;\n",
              "      border-bottom-color: var(--fill-color);\n",
              "    }\n",
              "  }\n",
              "</style>\n",
              "\n",
              "  <script>\n",
              "    async function quickchart(key) {\n",
              "      const quickchartButtonEl =\n",
              "        document.querySelector('#' + key + ' button');\n",
              "      quickchartButtonEl.disabled = true;  // To prevent multiple clicks.\n",
              "      quickchartButtonEl.classList.add('colab-df-spinner');\n",
              "      try {\n",
              "        const charts = await google.colab.kernel.invokeFunction(\n",
              "            'suggestCharts', [key], {});\n",
              "      } catch (error) {\n",
              "        console.error('Error during call to suggestCharts:', error);\n",
              "      }\n",
              "      quickchartButtonEl.classList.remove('colab-df-spinner');\n",
              "      quickchartButtonEl.classList.add('colab-df-quickchart-complete');\n",
              "    }\n",
              "    (() => {\n",
              "      let quickchartButtonEl =\n",
              "        document.querySelector('#df-e6ad2a12-a8e7-4eb8-9c8f-ebb1d0e2b3f6 button');\n",
              "      quickchartButtonEl.style.display =\n",
              "        google.colab.kernel.accessAllowed ? 'block' : 'none';\n",
              "    })();\n",
              "  </script>\n",
              "</div>\n",
              "\n",
              "    </div>\n",
              "  </div>\n"
            ],
            "application/vnd.google.colaboratory.intrinsic+json": {
              "type": "dataframe",
              "variable_name": "data"
            }
          },
          "metadata": {},
          "execution_count": 2
        }
      ]
    },
    {
      "cell_type": "markdown",
      "source": [
        "# Step 3: Data Exploration and Preprocessing\n",
        "Check for missing values and data types, and handle them appropriately."
      ],
      "metadata": {
        "id": "18-xF4krukBH"
      }
    },
    {
      "cell_type": "code",
      "source": [
        "# Check for missing values\n",
        "print(data.isnull().sum())\n",
        "\n",
        "# Fill missing values with median (if applicable)\n",
        "# data.fillna(data.median(), inplace=True)\n",
        "\n",
        "# Check data types and convert if necessary (e.g., convert day to datetime)\n",
        "data['day'] = pd.to_datetime(data['day'])\n",
        "\n",
        "# Drop or adjust non-numeric features if necessary (e.g., LCLid could be a unique identifier)\n",
        "data = data.drop(['LCLid'], axis=1)\n",
        "\n",
        "# Display basic statistics to understand the data\n",
        "print(data.describe())\n"
      ],
      "metadata": {
        "colab": {
          "base_uri": "https://localhost:8080/"
        },
        "id": "1MXlfps8uioS",
        "outputId": "27023eef-e414-4a61-e20c-158322268bf2"
      },
      "execution_count": 3,
      "outputs": [
        {
          "output_type": "stream",
          "name": "stdout",
          "text": [
            "LCLid                0\n",
            "day                  0\n",
            "energy_median       30\n",
            "energy_mean         30\n",
            "energy_max          30\n",
            "energy_count         0\n",
            "energy_std       11331\n",
            "energy_sum          30\n",
            "energy_min          30\n",
            "dtype: int64\n",
            "                                 day  energy_median   energy_mean  \\\n",
            "count                        3510433   3.510403e+06  3.510403e+06   \n",
            "mean   2013-03-27 21:09:43.463407360   1.587395e-01  2.117305e-01   \n",
            "min              2011-11-23 00:00:00   0.000000e+00  0.000000e+00   \n",
            "25%              2012-10-21 00:00:00   6.700000e-02  9.808333e-02   \n",
            "50%              2013-03-30 00:00:00   1.145000e-01  1.632917e-01   \n",
            "75%              2013-09-10 00:00:00   1.910000e-01  2.624583e-01   \n",
            "max              2014-02-28 00:00:00   6.970500e+00  6.928250e+00   \n",
            "std                              NaN   1.701865e-01  1.908460e-01   \n",
            "\n",
            "         energy_max  energy_count    energy_std    energy_sum    energy_min  \n",
            "count  3.510403e+06  3.510433e+06  3.499102e+06  3.510403e+06  3.510403e+06  \n",
            "mean   8.345210e-01  4.780364e+01  1.726673e-01  1.012414e+01  5.962578e-02  \n",
            "min    0.000000e+00  0.000000e+00  0.000000e+00  0.000000e+00  0.000000e+00  \n",
            "25%    3.460000e-01  4.800000e+01  6.911626e-02  4.682000e+00  2.000000e-02  \n",
            "50%    6.880000e-01  4.800000e+01  1.327910e-01  7.815000e+00  3.900000e-02  \n",
            "75%    1.128000e+00  4.800000e+01  2.293124e-01  1.256900e+01  7.100000e-02  \n",
            "max    1.076100e+01  4.800000e+01  4.024569e+00  3.325560e+02  6.524000e+00  \n",
            "std    6.683156e-01  2.810982e+00  1.531208e-01  9.128793e+00  8.701312e-02  \n"
          ]
        }
      ]
    },
    {
      "cell_type": "code",
      "source": [
        "# List of columns to check for NaN values\n",
        "columns_to_check = ['energy_median', 'energy_mean', 'energy_max', 'energy_std', 'energy_sum', 'energy_min']\n",
        "\n",
        "# Drop rows where any of the specified columns have NaN values\n",
        "data = data.dropna(subset=columns_to_check)\n",
        "\n",
        "# Verify that NaN values are dropped\n",
        "print(data.isnull().sum())\n"
      ],
      "metadata": {
        "colab": {
          "base_uri": "https://localhost:8080/"
        },
        "id": "-oCeRM_EyDBn",
        "outputId": "f30c2a2f-c87f-4708-aaa3-17fdae3b698a"
      },
      "execution_count": 4,
      "outputs": [
        {
          "output_type": "stream",
          "name": "stdout",
          "text": [
            "day              0\n",
            "energy_median    0\n",
            "energy_mean      0\n",
            "energy_max       0\n",
            "energy_count     0\n",
            "energy_std       0\n",
            "energy_sum       0\n",
            "energy_min       0\n",
            "dtype: int64\n"
          ]
        }
      ]
    },
    {
      "cell_type": "markdown",
      "source": [
        "# Step 4: Data Visualization\n",
        "Create visualizations to understand the data better.\n",
        "## Correlation Heatmap"
      ],
      "metadata": {
        "id": "ZPfJyeHuvbSt"
      }
    },
    {
      "cell_type": "code",
      "source": [
        "# Correlation matrix to understand relationships between energy metrics\n",
        "plt.figure(figsize=(8, 6))\n",
        "sns.heatmap(data.corr(), annot=True, cmap='coolwarm')\n",
        "plt.title('Correlation Heatmap')\n",
        "plt.show()"
      ],
      "metadata": {
        "colab": {
          "base_uri": "https://localhost:8080/",
          "height": 638
        },
        "id": "L--22u4LvYNg",
        "outputId": "6d332e7c-fd79-4d0e-d33a-3c5aedd28e7b"
      },
      "execution_count": 5,
      "outputs": [
        {
          "output_type": "display_data",
          "data": {
            "text/plain": [
              "<Figure size 800x600 with 2 Axes>"
            ],
            "image/png": "[encoded data removed]"
          },
          "metadata": {}
        }
      ]
    },
    {
      "cell_type": "markdown",
      "source": [
        "## Energy Consumption Over Time"
      ],
      "metadata": {
        "id": "JKIq94chvrDg"
      }
    },
    {
      "cell_type": "code",
      "source": [
        "# Plot the energy sum over time\n",
        "plt.figure(figsize=(6, 4))\n",
        "plt.plot(data['day'], data['energy_sum'], label='Energy Sum')\n",
        "plt.xlabel('Date')\n",
        "plt.ylabel('Energy Consumption (Sum)')\n",
        "plt.title('Energy Consumption Over Time')\n",
        "plt.legend()\n",
        "plt.show()\n"
      ],
      "metadata": {
        "colab": {
          "base_uri": "https://localhost:8080/",
          "height": 410
        },
        "id": "rJTCow9jvhhy",
        "outputId": "630da018-c6b6-4701-f2f2-82c1dd219e43"
      },
      "execution_count": 7,
      "outputs": [
        {
          "output_type": "display_data",
          "data": {
            "text/plain": [
              "<Figure size 600x400 with 1 Axes>"
            ],
            "image/png": "[encoded data removed]"
          },
          "metadata": {}
        }
      ]
    },
    {
      "cell_type": "markdown",
      "source": [
        "### Distribution of Energy Mean"
      ],
      "metadata": {
        "id": "AgefNMhfv9es"
      }
    },
    {
      "cell_type": "code",
      "source": [
        "# Distribution plot for energy mean\n",
        "plt.figure(figsize=(6, 3))\n",
        "sns.histplot(data['energy_mean'], bins=30, kde=True)\n",
        "plt.title('Distribution of Energy Mean')\n",
        "plt.xlabel('Energy Mean')\n",
        "plt.show()\n"
      ],
      "metadata": {
        "colab": {
          "base_uri": "https://localhost:8080/",
          "height": 333
        },
        "id": "U5_sQQ7BvuEL",
        "outputId": "a32e5173-aa5b-45b3-a15c-f48a2e6c3255"
      },
      "execution_count": 8,
      "outputs": [
        {
          "output_type": "display_data",
          "data": {
            "text/plain": [
              "<Figure size 600x300 with 1 Axes>"
            ],
            "image/png": "[encoded data removed]"
          },
          "metadata": {}
        }
      ]
    },
    {
      "cell_type": "markdown",
      "source": [
        "# Step 5: Feature Engineering and Train-Test Split\n",
        "Select features (independent variables) and target (dependent variable) and split the data into training and testing sets."
      ],
      "metadata": {
        "id": "D488PYwDwVfD"
      }
    },
    {
      "cell_type": "code",
      "source": [
        "# Define features (X) and target (y)\n",
        "X = data.drop(['energy_sum', 'day'], axis=1)  # Drop 'energy_sum' because it's the target, and 'day' because it's temporal\n",
        "y = data['energy_sum']\n",
        "\n",
        "# Train-test split (80% train, 20% test)\n",
        "X_train, X_test, y_train, y_test = train_test_split(X, y, test_size=0.2, random_state=42)\n",
        "\n",
        "# Standardize the features (optional but improves some models' performance)\n",
        "scaler = StandardScaler()\n",
        "X_train = scaler.fit_transform(X_train)\n",
        "X_test = scaler.transform(X_test)\n"
      ],
      "metadata": {
        "id": "8smptkJ2wL7A"
      },
      "execution_count": 9,
      "outputs": []
    },
    {
      "cell_type": "code",
      "source": [
        "# Check for missing values\n",
        "print(y.isnull().sum())"
      ],
      "metadata": {
        "colab": {
          "base_uri": "https://localhost:8080/"
        },
        "id": "t0MVUqxexfmb",
        "outputId": "fa619301-5c7a-4496-d076-2e68b4f8ddd2"
      },
      "execution_count": 10,
      "outputs": [
        {
          "output_type": "stream",
          "name": "stdout",
          "text": [
            "0\n"
          ]
        }
      ]
    },
    {
      "cell_type": "code",
      "source": [
        "y.head()"
      ],
      "metadata": {
        "colab": {
          "base_uri": "https://localhost:8080/",
          "height": 241
        },
        "id": "udMm0YKOwyes",
        "outputId": "86308e07-c86e-44fc-fc6c-356a035e7bef"
      },
      "execution_count": 11,
      "outputs": [
        {
          "output_type": "execute_result",
          "data": {
            "text/plain": [
              "0     9.505\n",
              "1    14.216\n",
              "2     9.111\n",
              "3    10.511\n",
              "4    15.647\n",
              "Name: energy_sum, dtype: float64"
            ],
            "text/html": [
              "<div>\n",
              "<style scoped>\n",
              "    .dataframe tbody tr th:only-of-type {\n",
              "        vertical-align: middle;\n",
              "    }\n",
              "\n",
              "    .dataframe tbody tr th {\n",
              "        vertical-align: top;\n",
              "    }\n",
              "\n",
              "    .dataframe thead th {\n",
              "        text-align: right;\n",
              "    }\n",
              "</style>\n",
              "<table border=\"1\" class=\"dataframe\">\n",
              "  <thead>\n",
              "    <tr style=\"text-align: right;\">\n",
              "      <th></th>\n",
              "      <th>energy_sum</th>\n",
              "    </tr>\n",
              "  </thead>\n",
              "  <tbody>\n",
              "    <tr>\n",
              "      <th>0</th>\n",
              "      <td>9.505</td>\n",
              "    </tr>\n",
              "    <tr>\n",
              "      <th>1</th>\n",
              "      <td>14.216</td>\n",
              "    </tr>\n",
              "    <tr>\n",
              "      <th>2</th>\n",
              "      <td>9.111</td>\n",
              "    </tr>\n",
              "    <tr>\n",
              "      <th>3</th>\n",
              "      <td>10.511</td>\n",
              "    </tr>\n",
              "    <tr>\n",
              "      <th>4</th>\n",
              "      <td>15.647</td>\n",
              "    </tr>\n",
              "  </tbody>\n",
              "</table>\n",
              "</div><br><label><b>dtype:</b> float64</label>"
            ]
          },
          "metadata": {},
          "execution_count": 11
        }
      ]
    },
    {
      "cell_type": "markdown",
      "source": [
        "# Step 6: Train Machine Learning Models\n",
        "Now, we train a Random Forest model to predict energy consumption."
      ],
      "metadata": {
        "id": "9jxBko-6wjhf"
      }
    },
    {
      "cell_type": "code",
      "source": [
        "# Train a Random Forest Regressor\n",
        "rf_model = RandomForestRegressor(n_estimators=100, random_state=42)\n",
        "rf_model.fit(X_train, y_train)\n",
        "\n",
        "# Make predictions on the test set\n",
        "y_pred_rf = rf_model.predict(X_test)\n",
        "\n",
        "# Evaluate the model\n",
        "mse_rf = mean_squared_error(y_test, y_pred_rf)\n",
        "r2_rf = r2_score(y_test, y_pred_rf)\n",
        "\n",
        "print(f\"Random Forest - MSE: {mse_rf}, R2: {r2_rf}\")\n",
        "# Train Models\n",
        "models = {\n",
        "    \"Decision Tree\": DecisionTreeRegressor(),\n",
        "    \"Random Forest\": RandomForestRegressor(),\n",
        "    \"SVR\": SVR()\n",
        "}\n",
        "\n",
        "results = {}\n",
        "for name, model in models.items():\n",
        "    model.fit(X_train, y_train)\n",
        "    predictions = model.predict(X_test)\n",
        "    results[name] = {\n",
        "        \"MAE\": mean_absolute_error(y_test, predictions),\n",
        "        \"MSE\": mean_squared_error(y_test, predictions),\n",
        "        \"RMSE\": np.sqrt(mean_squared_error(y_test, predictions)),\n",
        "        \"R^2\": r2_score(y_test, predictions)\n",
        "    }"
      ],
      "metadata": {
        "id": "3cFyeZSewZLd"
      },
      "execution_count": null,
      "outputs": []
    },
    {
      "cell_type": "markdown",
      "source": [
        "# Step 7: Model Evaluation and Visualization\n",
        "Actual vs Predicted Plot"
      ],
      "metadata": {
        "id": "GtBiAMXL59-q"
      }
    },
    {
      "cell_type": "code",
      "source": [
        "# Scatter plot to compare actual vs predicted values\n",
        "plt.figure(figsize=(6, 3))\n",
        "plt.scatter(y_test, y_pred_rf, alpha=0.5, color='blue')\n",
        "plt.plot([min(y_test), max(y_test)], [min(y_test), max(y_test)], color='red')\n",
        "plt.xlabel('Actual Energy Consumption')\n",
        "plt.ylabel('Predicted Energy Consumption')\n",
        "plt.title('Random Forest: Actual vs Predicted')\n",
        "plt.show()\n"
      ],
      "metadata": {
        "id": "SilpIGH06Cbi"
      },
      "execution_count": null,
      "outputs": []
    },
    {
      "cell_type": "markdown",
      "source": [
        "### Feature Importance Plot"
      ],
      "metadata": {
        "id": "H0rcvlkG6Ikc"
      }
    },
    {
      "cell_type": "code",
      "source": [
        "# # Plot feature importance from the Random Forest model\n",
        "# importance = rf_model.feature_importances_\n",
        "# features = X.columns\n",
        "\n",
        "# plt.figure(figsize=(6, 3))\n",
        "# sns.barplot(x=importance, y=features)\n",
        "# plt.title('Feature Importance - Random Forest')\n",
        "# plt.show()\n"
      ],
      "metadata": {
        "colab": {
          "base_uri": "https://localhost:8080/",
          "height": 211
        },
        "id": "T1bjTCxq6J7B",
        "outputId": "04b0ac8e-31df-43da-a0db-566637092a91"
      },
      "execution_count": null,
      "outputs": [
        {
          "output_type": "error",
          "ename": "NameError",
          "evalue": "name 'rf_model' is not defined",
          "traceback": [
            "\u001b[0;31m---------------------------------------------------------------------------\u001b[0m",
            "\u001b[0;31mNameError\u001b[0m                                 Traceback (most recent call last)",
            "\u001b[0;32m<ipython-input-23-c4f506d35843>\u001b[0m in \u001b[0;36m<cell line: 2>\u001b[0;34m()\u001b[0m\n\u001b[1;32m      1\u001b[0m \u001b[0;31m# Plot feature importance from the Random Forest model\u001b[0m\u001b[0;34m\u001b[0m\u001b[0;34m\u001b[0m\u001b[0m\n\u001b[0;32m----> 2\u001b[0;31m \u001b[0mimportance\u001b[0m \u001b[0;34m=\u001b[0m \u001b[0mrf_model\u001b[0m\u001b[0;34m.\u001b[0m\u001b[0mfeature_importances_\u001b[0m\u001b[0;34m\u001b[0m\u001b[0;34m\u001b[0m\u001b[0m\n\u001b[0m\u001b[1;32m      3\u001b[0m \u001b[0mfeatures\u001b[0m \u001b[0;34m=\u001b[0m \u001b[0mX\u001b[0m\u001b[0;34m.\u001b[0m\u001b[0mcolumns\u001b[0m\u001b[0;34m\u001b[0m\u001b[0;34m\u001b[0m\u001b[0m\n\u001b[1;32m      4\u001b[0m \u001b[0;34m\u001b[0m\u001b[0m\n\u001b[1;32m      5\u001b[0m \u001b[0mplt\u001b[0m\u001b[0;34m.\u001b[0m\u001b[0mfigure\u001b[0m\u001b[0;34m(\u001b[0m\u001b[0mfigsize\u001b[0m\u001b[0;34m=\u001b[0m\u001b[0;34m(\u001b[0m\u001b[0;36m6\u001b[0m\u001b[0;34m,\u001b[0m \u001b[0;36m3\u001b[0m\u001b[0;34m)\u001b[0m\u001b[0;34m)\u001b[0m\u001b[0;34m\u001b[0m\u001b[0;34m\u001b[0m\u001b[0m\n",
            "\u001b[0;31mNameError\u001b[0m: name 'rf_model' is not defined"
          ]
        }
      ]
    },
    {
      "cell_type": "markdown",
      "source": [
        "## Residuals Plot\n",
        "A residual plot shows the difference between the actual and predicted values."
      ],
      "metadata": {
        "id": "hABoKvsT6NmG"
      }
    },
    {
      "cell_type": "code",
      "source": [
        "# Residual plot (errors)\n",
        "residuals = y_test - y_pred_rf\n",
        "plt.figure(figsize=(10, 6))\n",
        "plt.scatter(y_test, residuals, alpha=0.5, color='green')\n",
        "plt.axhline(0, color='red', linestyle='--')\n",
        "plt.xlabel('Actual Energy Consumption')\n",
        "plt.ylabel('Residuals')\n",
        "plt.title('Residuals Plot')\n",
        "plt.show()\n"
      ],
      "metadata": {
        "colab": {
          "base_uri": "https://localhost:8080/",
          "height": 564
        },
        "id": "dXk0ny6l6O2y",
        "outputId": "3cafa4a3-841a-478c-fd80-aadede2044f7"
      },
      "execution_count": null,
      "outputs": [
        {
          "output_type": "display_data",
          "data": {
            "text/plain": [
              "<Figure size 1000x600 with 1 Axes>"
            ],
            "image/png": "[encoded data removed]"
          },
          "metadata": {}
        }
      ]
    },
    {
      "cell_type": "code",
      "source": [
        "X.head()"
      ],
      "metadata": {
        "colab": {
          "base_uri": "https://localhost:8080/",
          "height": 206
        },
        "id": "pcTcqLP6ERBR",
        "outputId": "09760822-99c2-44a4-ea82-dc0dff9d1d25"
      },
      "execution_count": null,
      "outputs": [
        {
          "output_type": "execute_result",
          "data": {
            "text/plain": [
              "   energy_median  energy_mean  energy_max  energy_count  energy_std  \\\n",
              "0         0.4850     0.432045       0.868            22    0.239146   \n",
              "1         0.1415     0.296167       1.116            48    0.281471   \n",
              "2         0.1015     0.189812       0.685            48    0.188405   \n",
              "3         0.1140     0.218979       0.676            48    0.202919   \n",
              "4         0.1910     0.325979       0.788            48    0.259205   \n",
              "\n",
              "   energy_min  \n",
              "0       0.072  \n",
              "1       0.031  \n",
              "2       0.064  \n",
              "3       0.065  \n",
              "4       0.066  "
            ],
            "text/html": [
              "\n",
              "  <div id=\"df-52e867c9-b931-4ba9-8fed-4050affaffb5\" class=\"colab-df-container\">\n",
              "    <div>\n",
              "<style scoped>\n",
              "    .dataframe tbody tr th:only-of-type {\n",
              "        vertical-align: middle;\n",
              "    }\n",
              "\n",
              "    .dataframe tbody tr th {\n",
              "        vertical-align: top;\n",
              "    }\n",
              "\n",
              "    .dataframe thead th {\n",
              "        text-align: right;\n",
              "    }\n",
              "</style>\n",
              "<table border=\"1\" class=\"dataframe\">\n",
              "  <thead>\n",
              "    <tr style=\"text-align: right;\">\n",
              "      <th></th>\n",
              "      <th>energy_median</th>\n",
              "      <th>energy_mean</th>\n",
              "      <th>energy_max</th>\n",
              "      <th>energy_count</th>\n",
              "      <th>energy_std</th>\n",
              "      <th>energy_min</th>\n",
              "    </tr>\n",
              "  </thead>\n",
              "  <tbody>\n",
              "    <tr>\n",
              "      <th>0</th>\n",
              "      <td>0.4850</td>\n",
              "      <td>0.432045</td>\n",
              "      <td>0.868</td>\n",
              "      <td>22</td>\n",
              "      <td>0.239146</td>\n",
              "      <td>0.072</td>\n",
              "    </tr>\n",
              "    <tr>\n",
              "      <th>1</th>\n",
              "      <td>0.1415</td>\n",
              "      <td>0.296167</td>\n",
              "      <td>1.116</td>\n",
              "      <td>48</td>\n",
              "      <td>0.281471</td>\n",
              "      <td>0.031</td>\n",
              "    </tr>\n",
              "    <tr>\n",
              "      <th>2</th>\n",
              "      <td>0.1015</td>\n",
              "      <td>0.189812</td>\n",
              "      <td>0.685</td>\n",
              "      <td>48</td>\n",
              "      <td>0.188405</td>\n",
              "      <td>0.064</td>\n",
              "    </tr>\n",
              "    <tr>\n",
              "      <th>3</th>\n",
              "      <td>0.1140</td>\n",
              "      <td>0.218979</td>\n",
              "      <td>0.676</td>\n",
              "      <td>48</td>\n",
              "      <td>0.202919</td>\n",
              "      <td>0.065</td>\n",
              "    </tr>\n",
              "    <tr>\n",
              "      <th>4</th>\n",
              "      <td>0.1910</td>\n",
              "      <td>0.325979</td>\n",
              "      <td>0.788</td>\n",
              "      <td>48</td>\n",
              "      <td>0.259205</td>\n",
              "      <td>0.066</td>\n",
              "    </tr>\n",
              "  </tbody>\n",
              "</table>\n",
              "</div>\n",
              "    <div class=\"colab-df-buttons\">\n",
              "\n",
              "  <div class=\"colab-df-container\">\n",
              "    <button class=\"colab-df-convert\" onclick=\"convertToInteractive('df-52e867c9-b931-4ba9-8fed-4050affaffb5')\"\n",
              "            title=\"Convert this dataframe to an interactive table.\"\n",
              "            style=\"display:none;\">\n",
              "\n",
              "  <svg xmlns=\"http://www.w3.org/2000/svg\" height=\"24px\" viewBox=\"0 -960 960 960\">\n",
              "    <path d=\"M120-120v-720h720v720H120Zm60-500h600v-160H180v160Zm220 220h160v-160H400v160Zm0 220h160v-160H400v160ZM180-400h160v-160H180v160Zm440 0h160v-160H620v160ZM180-180h160v-160H180v160Zm440 0h160v-160H620v160Z\"/>\n",
              "  </svg>\n",
              "    </button>\n",
              "\n",
              "  <style>\n",
              "    .colab-df-container {\n",
              "      display:flex;\n",
              "      gap: 12px;\n",
              "    }\n",
              "\n",
              "    .colab-df-convert {\n",
              "      background-color: #E8F0FE;\n",
              "      border: none;\n",
              "      border-radius: 50%;\n",
              "      cursor: pointer;\n",
              "      display: none;\n",
              "      fill: #1967D2;\n",
              "      height: 32px;\n",
              "      padding: 0 0 0 0;\n",
              "      width: 32px;\n",
              "    }\n",
              "\n",
              "    .colab-df-convert:hover {\n",
              "      background-color: #E2EBFA;\n",
              "      box-shadow: 0px 1px 2px rgba(60, 64, 67, 0.3), 0px 1px 3px 1px rgba(60, 64, 67, 0.15);\n",
              "      fill: #174EA6;\n",
              "    }\n",
              "\n",
              "    .colab-df-buttons div {\n",
              "      margin-bottom: 4px;\n",
              "    }\n",
              "\n",
              "    [theme=dark] .colab-df-convert {\n",
              "      background-color: #3B4455;\n",
              "      fill: #D2E3FC;\n",
              "    }\n",
              "\n",
              "    [theme=dark] .colab-df-convert:hover {\n",
              "      background-color: #434B5C;\n",
              "      box-shadow: 0px 1px 3px 1px rgba(0, 0, 0, 0.15);\n",
              "      filter: drop-shadow(0px 1px 2px rgba(0, 0, 0, 0.3));\n",
              "      fill: #FFFFFF;\n",
              "    }\n",
              "  </style>\n",
              "\n",
              "    <script>\n",
              "      const buttonEl =\n",
              "        document.querySelector('#df-52e867c9-b931-4ba9-8fed-4050affaffb5 button.colab-df-convert');\n",
              "      buttonEl.style.display =\n",
              "        google.colab.kernel.accessAllowed ? 'block' : 'none';\n",
              "\n",
              "      async function convertToInteractive(key) {\n",
              "        const element = document.querySelector('#df-52e867c9-b931-4ba9-8fed-4050affaffb5');\n",
              "        const dataTable =\n",
              "          await google.colab.kernel.invokeFunction('convertToInteractive',\n",
              "                                                    [key], {});\n",
              "        if (!dataTable) return;\n",
              "\n",
              "        const docLinkHtml = 'Like what you see? Visit the ' +\n",
              "          '<a target=\"_blank\" href=https://colab.research.google.com/notebooks/data_table.ipynb>data table notebook</a>'\n",
              "          + ' to learn more about interactive tables.';\n",
              "        element.innerHTML = '';\n",
              "        dataTable['output_type'] = 'display_data';\n",
              "        await google.colab.output.renderOutput(dataTable, element);\n",
              "        const docLink = document.createElement('div');\n",
              "        docLink.innerHTML = docLinkHtml;\n",
              "        element.appendChild(docLink);\n",
              "      }\n",
              "    </script>\n",
              "  </div>\n",
              "\n",
              "\n",
              "<div id=\"df-c53fbbcb-ffc9-4f1f-999b-2870e9eab99e\">\n",
              "  <button class=\"colab-df-quickchart\" onclick=\"quickchart('df-c53fbbcb-ffc9-4f1f-999b-2870e9eab99e')\"\n",
              "            title=\"Suggest charts\"\n",
              "            style=\"display:none;\">\n",
              "\n",
              "<svg xmlns=\"http://www.w3.org/2000/svg\" height=\"24px\"viewBox=\"0 0 24 24\"\n",
              "     width=\"24px\">\n",
              "    <g>\n",
              "        <path d=\"M19 3H5c-1.1 0-2 .9-2 2v14c0 1.1.9 2 2 2h14c1.1 0 2-.9 2-2V5c0-1.1-.9-2-2-2zM9 17H7v-7h2v7zm4 0h-2V7h2v10zm4 0h-2v-4h2v4z\"/>\n",
              "    </g>\n",
              "</svg>\n",
              "  </button>\n",
              "\n",
              "<style>\n",
              "  .colab-df-quickchart {\n",
              "      --bg-color: #E8F0FE;\n",
              "      --fill-color: #1967D2;\n",
              "      --hover-bg-color: #E2EBFA;\n",
              "      --hover-fill-color: #174EA6;\n",
              "      --disabled-fill-color: #AAA;\n",
              "      --disabled-bg-color: #DDD;\n",
              "  }\n",
              "\n",
              "  [theme=dark] .colab-df-quickchart {\n",
              "      --bg-color: #3B4455;\n",
              "      --fill-color: #D2E3FC;\n",
              "      --hover-bg-color: #434B5C;\n",
              "      --hover-fill-color: #FFFFFF;\n",
              "      --disabled-bg-color: #3B4455;\n",
              "      --disabled-fill-color: #666;\n",
              "  }\n",
              "\n",
              "  .colab-df-quickchart {\n",
              "    background-color: var(--bg-color);\n",
              "    border: none;\n",
              "    border-radius: 50%;\n",
              "    cursor: pointer;\n",
              "    display: none;\n",
              "    fill: var(--fill-color);\n",
              "    height: 32px;\n",
              "    padding: 0;\n",
              "    width: 32px;\n",
              "  }\n",
              "\n",
              "  .colab-df-quickchart:hover {\n",
              "    background-color: var(--hover-bg-color);\n",
              "    box-shadow: 0 1px 2px rgba(60, 64, 67, 0.3), 0 1px 3px 1px rgba(60, 64, 67, 0.15);\n",
              "    fill: var(--button-hover-fill-color);\n",
              "  }\n",
              "\n",
              "  .colab-df-quickchart-complete:disabled,\n",
              "  .colab-df-quickchart-complete:disabled:hover {\n",
              "    background-color: var(--disabled-bg-color);\n",
              "    fill: var(--disabled-fill-color);\n",
              "    box-shadow: none;\n",
              "  }\n",
              "\n",
              "  .colab-df-spinner {\n",
              "    border: 2px solid var(--fill-color);\n",
              "    border-color: transparent;\n",
              "    border-bottom-color: var(--fill-color);\n",
              "    animation:\n",
              "      spin 1s steps(1) infinite;\n",
              "  }\n",
              "\n",
              "  @keyframes spin {\n",
              "    0% {\n",
              "      border-color: transparent;\n",
              "      border-bottom-color: var(--fill-color);\n",
              "      border-left-color: var(--fill-color);\n",
              "    }\n",
              "    20% {\n",
              "      border-color: transparent;\n",
              "      border-left-color: var(--fill-color);\n",
              "      border-top-color: var(--fill-color);\n",
              "    }\n",
              "    30% {\n",
              "      border-color: transparent;\n",
              "      border-left-color: var(--fill-color);\n",
              "      border-top-color: var(--fill-color);\n",
              "      border-right-color: var(--fill-color);\n",
              "    }\n",
              "    40% {\n",
              "      border-color: transparent;\n",
              "      border-right-color: var(--fill-color);\n",
              "      border-top-color: var(--fill-color);\n",
              "    }\n",
              "    60% {\n",
              "      border-color: transparent;\n",
              "      border-right-color: var(--fill-color);\n",
              "    }\n",
              "    80% {\n",
              "      border-color: transparent;\n",
              "      border-right-color: var(--fill-color);\n",
              "      border-bottom-color: var(--fill-color);\n",
              "    }\n",
              "    90% {\n",
              "      border-color: transparent;\n",
              "      border-bottom-color: var(--fill-color);\n",
              "    }\n",
              "  }\n",
              "</style>\n",
              "\n",
              "  <script>\n",
              "    async function quickchart(key) {\n",
              "      const quickchartButtonEl =\n",
              "        document.querySelector('#' + key + ' button');\n",
              "      quickchartButtonEl.disabled = true;  // To prevent multiple clicks.\n",
              "      quickchartButtonEl.classList.add('colab-df-spinner');\n",
              "      try {\n",
              "        const charts = await google.colab.kernel.invokeFunction(\n",
              "            'suggestCharts', [key], {});\n",
              "      } catch (error) {\n",
              "        console.error('Error during call to suggestCharts:', error);\n",
              "      }\n",
              "      quickchartButtonEl.classList.remove('colab-df-spinner');\n",
              "      quickchartButtonEl.classList.add('colab-df-quickchart-complete');\n",
              "    }\n",
              "    (() => {\n",
              "      let quickchartButtonEl =\n",
              "        document.querySelector('#df-c53fbbcb-ffc9-4f1f-999b-2870e9eab99e button');\n",
              "      quickchartButtonEl.style.display =\n",
              "        google.colab.kernel.accessAllowed ? 'block' : 'none';\n",
              "    })();\n",
              "  </script>\n",
              "</div>\n",
              "\n",
              "    </div>\n",
              "  </div>\n"
            ],
            "application/vnd.google.colaboratory.intrinsic+json": {
              "type": "dataframe",
              "variable_name": "X"
            }
          },
          "metadata": {},
          "execution_count": 24
        }
      ]
    },
    {
      "cell_type": "code",
      "source": [
        "y.head()"
      ],
      "metadata": {
        "colab": {
          "base_uri": "https://localhost:8080/",
          "height": 241
        },
        "id": "eU-tM3llEWR3",
        "outputId": "a964be42-8a64-42fb-d8fb-a69186f7b0c3"
      },
      "execution_count": null,
      "outputs": [
        {
          "output_type": "execute_result",
          "data": {
            "text/plain": [
              "0     9.505\n",
              "1    14.216\n",
              "2     9.111\n",
              "3    10.511\n",
              "4    15.647\n",
              "Name: energy_sum, dtype: float64"
            ],
            "text/html": [
              "<div>\n",
              "<style scoped>\n",
              "    .dataframe tbody tr th:only-of-type {\n",
              "        vertical-align: middle;\n",
              "    }\n",
              "\n",
              "    .dataframe tbody tr th {\n",
              "        vertical-align: top;\n",
              "    }\n",
              "\n",
              "    .dataframe thead th {\n",
              "        text-align: right;\n",
              "    }\n",
              "</style>\n",
              "<table border=\"1\" class=\"dataframe\">\n",
              "  <thead>\n",
              "    <tr style=\"text-align: right;\">\n",
              "      <th></th>\n",
              "      <th>energy_sum</th>\n",
              "    </tr>\n",
              "  </thead>\n",
              "  <tbody>\n",
              "    <tr>\n",
              "      <th>0</th>\n",
              "      <td>9.505</td>\n",
              "    </tr>\n",
              "    <tr>\n",
              "      <th>1</th>\n",
              "      <td>14.216</td>\n",
              "    </tr>\n",
              "    <tr>\n",
              "      <th>2</th>\n",
              "      <td>9.111</td>\n",
              "    </tr>\n",
              "    <tr>\n",
              "      <th>3</th>\n",
              "      <td>10.511</td>\n",
              "    </tr>\n",
              "    <tr>\n",
              "      <th>4</th>\n",
              "      <td>15.647</td>\n",
              "    </tr>\n",
              "  </tbody>\n",
              "</table>\n",
              "</div><br><label><b>dtype:</b> float64</label>"
            ]
          },
          "metadata": {},
          "execution_count": 25
        }
      ]
    },
    {
      "cell_type": "code",
      "source": [
        "new_input = pd.DataFrame({\n",
        "    'energy_median': [0.4850],  # replace with actual value\n",
        "    'energy_mean': [0.432045],    # replace with actual value\n",
        "    'energy_max': [0.868],    # replace with actual value\n",
        "    'energy_count': [22],   # replace with actual value\n",
        "    'energy_std': [0.239146],     # replace with actual value\n",
        "    # 'energy_sum': [1500],   # replace with actual value\n",
        "    'energy_min': [0.072]      # replace with actual value\n",
        "})\n",
        "\n",
        "# Display the new input\n",
        "print(new_input)"
      ],
      "metadata": {
        "colab": {
          "base_uri": "https://localhost:8080/"
        },
        "id": "PuAKm4krERze",
        "outputId": "71fe57ce-adf7-4eba-a925-c998ccc0a54f"
      },
      "execution_count": null,
      "outputs": [
        {
          "output_type": "stream",
          "name": "stdout",
          "text": [
            "   energy_median  energy_mean  energy_max  energy_count  energy_std  \\\n",
            "0          0.485     0.432045       0.868            22    0.239146   \n",
            "\n",
            "   energy_min  \n",
            "0       0.072  \n"
          ]
        }
      ]
    },
    {
      "cell_type": "code",
      "source": [
        "# Predict energy consumption using Random Forest\n",
        "rf_prediction = rf_model.predict(new_input)\n",
        "print(f'Predicted Energy Consumption (Random Forest): {rf_prediction[0]}')"
      ],
      "metadata": {
        "colab": {
          "base_uri": "https://localhost:8080/"
        },
        "id": "7Qfztw7tE5e-",
        "outputId": "8c918005-ec4c-4783-dda1-4b6e37e87ec9"
      },
      "execution_count": null,
      "outputs": [
        {
          "output_type": "stream",
          "name": "stdout",
          "text": [
            "Predicted Energy Consumption (Random Forest): 14.110839996246295\n"
          ]
        },
        {
          "output_type": "stream",
          "name": "stderr",
          "text": [
            "/usr/local/lib/python3.10/dist-packages/sklearn/base.py:486: UserWarning: X has feature names, but RandomForestRegressor was fitted without feature names\n",
            "  warnings.warn(\n"
          ]
        }
      ]
    },
    {
      "cell_type": "code",
      "source": [
        "# Plot Model Performance\n",
        "results_df[['MAE', 'MSE', 'RMSE']].plot(kind='bar', figsize=(10, 6))\n",
        "plt.title(\"Error Metrics Comparison\")\n",
        "plt.ylabel(\"Error Value\")\n",
        "plt.show()"
      ],
      "metadata": {
        "id": "tEoqJ9UvWkDd"
      },
      "execution_count": null,
      "outputs": []
    },
    {
      "cell_type": "code",
      "source": [
        "# Predicted vs Actual Plot\n",
        "for name, model in models.items():\n",
        "    predictions = model.predict(X_test)\n",
        "    plt.scatter(y_test, predictions, label=name, alpha=0.6)\n",
        "plt.plot([min(y_test), max(y_test)], [min(y_test), max(y_test)], 'r--', label='Ideal')\n",
        "plt.legend()\n",
        "plt.title(\"Prediction vs Actual Values\")\n",
        "plt.xlabel(\"Actual Energy Consumption\")\n",
        "plt.ylabel(\"Predicted Energy Consumption\")\n",
        "plt.show()"
      ],
      "metadata": {
        "id": "cn6NmIW6XqxJ"
      },
      "execution_count": null,
      "outputs": []
    }
  ]
}