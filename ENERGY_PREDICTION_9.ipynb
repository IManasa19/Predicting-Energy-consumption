{
  "nbformat": 4,
  "nbformat_minor": 0,
  "metadata": {
    "colab": {
      "provenance": [],
      "include_colab_link": true
    },
    "kernelspec": {
      "name": "python3",
      "display_name": "Python 3"
    },
    "language_info": {
      "name": "python"
    }
  },
  "cells": [
    {
      "cell_type": "markdown",
      "metadata": {
        "id": "view-in-github",
        "colab_type": "text"
      },
      "source": [
        "<a href=\"https://colab.research.google.com/github/IManasa19/Predicting-Energy-consumption/blob/main/ENERGY_PREDICTION_9.ipynb\" target=\"_parent\"><img src=\"https://colab.research.google.com/assets/colab-badge.svg\" alt=\"Open In Colab\"/></a>"
      ]
    },
    {
      "cell_type": "markdown",
      "source": [
        "# Load Required Libraries"
      ],
      "metadata": {
        "id": "db0KRH3RYklo"
      }
    },
    {
      "cell_type": "code",
      "source": [
        "import pandas as pd\n",
        "import numpy as np\n",
        "import matplotlib.pyplot as plt\n",
        "import seaborn as sns\n",
        "\n",
        "from sklearn.model_selection import train_test_split\n",
        "from sklearn.linear_model import LinearRegression\n",
        "from sklearn.tree import DecisionTreeRegressor\n",
        "from sklearn.ensemble import RandomForestRegressor\n",
        "from sklearn.metrics import mean_squared_error, r2_score\n"
      ],
      "metadata": {
        "id": "_VEstRLhYaVD"
      },
      "execution_count": null,
      "outputs": []
    },
    {
      "cell_type": "markdown",
      "source": [
        "# Loding Dataset"
      ],
      "metadata": {
        "id": "aJoEFXRUYgHO"
      }
    },
    {
      "cell_type": "code",
      "source": [
        "# Load the dataset for respective file loaction\n",
        "EC_data = pd.read_csv(\"/content/Manasa_daily_dataset.csv\")"
      ],
      "metadata": {
        "id": "omCu7DD0YdrP"
      },
      "execution_count": null,
      "outputs": []
    },
    {
      "cell_type": "code",
      "source": [
        "# Show the first few rows of the dataset\n",
        "print(EC_data.head())"
      ],
      "metadata": {
        "colab": {
          "base_uri": "https://localhost:8080/"
        },
        "id": "8NF5DETbYjwT",
        "outputId": "9ab22ab5-8d82-4688-b270-618e53e148a5"
      },
      "execution_count": null,
      "outputs": [
        {
          "output_type": "stream",
          "name": "stdout",
          "text": [
            "       LCLid         day  energy_median  energy_mean  energy_max  \\\n",
            "0  MAC000131  2011-12-15         0.4850     0.432045       0.868   \n",
            "1  MAC000131  2011-12-16         0.1415     0.296167       1.116   \n",
            "2  MAC000131  2011-12-17         0.1015     0.189812       0.685   \n",
            "3  MAC000131  2011-12-18         0.1140     0.218979       0.676   \n",
            "4  MAC000131  2011-12-19         0.1910     0.325979       0.788   \n",
            "\n",
            "   energy_count  energy_std  energy_sum  energy_min  \n",
            "0          22.0    0.239146       9.505       0.072  \n",
            "1          48.0    0.281471      14.216       0.031  \n",
            "2          48.0    0.188405       9.111       0.064  \n",
            "3          48.0    0.202919      10.511       0.065  \n",
            "4          48.0    0.259205      15.647       0.066  \n"
          ]
        }
      ]
    },
    {
      "cell_type": "code",
      "source": [
        "#Check for missing values in the datset\n",
        "print(EC_data.isnull())"
      ],
      "metadata": {
        "colab": {
          "base_uri": "https://localhost:8080/"
        },
        "id": "VeRzp7HaY1C4",
        "outputId": "d4ca24f8-5277-4efc-b0dc-84d5db330cec"
      },
      "execution_count": null,
      "outputs": [
        {
          "output_type": "stream",
          "name": "stdout",
          "text": [
            "        LCLid    day  energy_median  energy_mean  energy_max  energy_count  \\\n",
            "0       False  False          False        False       False         False   \n",
            "1       False  False          False        False       False         False   \n",
            "2       False  False          False        False       False         False   \n",
            "3       False  False          False        False       False         False   \n",
            "4       False  False          False        False       False         False   \n",
            "...       ...    ...            ...          ...         ...           ...   \n",
            "501737  False  False          False        False       False         False   \n",
            "501738  False  False          False        False       False         False   \n",
            "501739  False  False          False        False       False         False   \n",
            "501740  False  False          False        False       False         False   \n",
            "501741  False  False           True         True        True          True   \n",
            "\n",
            "        energy_std  energy_sum  energy_min  \n",
            "0            False       False       False  \n",
            "1            False       False       False  \n",
            "2            False       False       False  \n",
            "3            False       False       False  \n",
            "4            False       False       False  \n",
            "...            ...         ...         ...  \n",
            "501737       False       False       False  \n",
            "501738       False       False       False  \n",
            "501739       False       False       False  \n",
            "501740       False       False       False  \n",
            "501741        True        True        True  \n",
            "\n",
            "[501742 rows x 9 columns]\n"
          ]
        }
      ]
    },
    {
      "cell_type": "code",
      "source": [
        "# Sum of missing values fo each feature\n",
        "print(EC_data.isnull().sum())"
      ],
      "metadata": {
        "colab": {
          "base_uri": "https://localhost:8080/"
        },
        "id": "VKsYJVZYY6y0",
        "outputId": "739eb0de-44be-43bf-fe95-d53cc345df6c"
      },
      "execution_count": null,
      "outputs": [
        {
          "output_type": "stream",
          "name": "stdout",
          "text": [
            "LCLid               0\n",
            "day                 0\n",
            "energy_median       7\n",
            "energy_mean         7\n",
            "energy_max          7\n",
            "energy_count        1\n",
            "energy_std       1525\n",
            "energy_sum          7\n",
            "energy_min          7\n",
            "dtype: int64\n"
          ]
        }
      ]
    },
    {
      "cell_type": "code",
      "source": [
        "# Deatailed Summary  of the dataset\n",
        "print(EC_data.describe())"
      ],
      "metadata": {
        "colab": {
          "base_uri": "https://localhost:8080/"
        },
        "id": "2kwG_d0pZDdr",
        "outputId": "72330753-4a26-4f20-a0cb-2e9070e69810"
      },
      "execution_count": null,
      "outputs": [
        {
          "output_type": "stream",
          "name": "stdout",
          "text": [
            "       energy_median    energy_mean     energy_max   energy_count  \\\n",
            "count  501735.000000  501735.000000  501735.000000  501741.000000   \n",
            "mean        0.151373       0.201117       0.799428      47.813685   \n",
            "std         0.149469       0.170500       0.645780       2.732127   \n",
            "min         0.000000       0.000000       0.000000       0.000000   \n",
            "25%         0.068000       0.097854       0.337000      48.000000   \n",
            "50%         0.114500       0.159312       0.654000      48.000000   \n",
            "75%         0.185500       0.251021       1.067000      48.000000   \n",
            "max         6.905500       6.928250       9.257000      48.000000   \n",
            "\n",
            "          energy_std     energy_sum     energy_min  \n",
            "count  500217.000000  501735.000000  501735.000000  \n",
            "mean        0.164642       9.618524       0.055142  \n",
            "std         0.148521       8.144379       0.075993  \n",
            "min         0.000000       0.000000       0.000000  \n",
            "25%         0.067521       4.675000       0.020000  \n",
            "50%         0.125309       7.627000       0.039000  \n",
            "75%         0.214796      12.025000       0.068000  \n",
            "max         2.381959     332.556001       6.394000  \n"
          ]
        }
      ]
    },
    {
      "cell_type": "code",
      "source": [
        "EC_data"
      ],
      "metadata": {
        "colab": {
          "base_uri": "https://localhost:8080/",
          "height": 423
        },
        "id": "4Q6WS_pzZI5n",
        "outputId": "e4605c22-32c8-4af1-8ca2-6be7088a75c7"
      },
      "execution_count": null,
      "outputs": [
        {
          "output_type": "execute_result",
          "data": {
            "text/plain": [
              "            LCLid         day  energy_median  energy_mean  energy_max  \\\n",
              "0       MAC000131  2011-12-15         0.4850     0.432045       0.868   \n",
              "1       MAC000131  2011-12-16         0.1415     0.296167       1.116   \n",
              "2       MAC000131  2011-12-17         0.1015     0.189812       0.685   \n",
              "3       MAC000131  2011-12-18         0.1140     0.218979       0.676   \n",
              "4       MAC000131  2011-12-19         0.1910     0.325979       0.788   \n",
              "...           ...         ...            ...          ...         ...   \n",
              "501737  MAC004170  2013-03-07         0.2125     0.286812       1.072   \n",
              "501738  MAC004170  2013-03-08         0.3065     0.453563       2.397   \n",
              "501739  MAC004170  2013-03-09         0.3805     0.352625       0.641   \n",
              "501740  MAC004170  2013-03-10         0.3025     0.380563       1.443   \n",
              "501741  MAC004170  2013-03-11            NaN          NaN         NaN   \n",
              "\n",
              "        energy_count  energy_std  energy_sum  energy_min  \n",
              "0               22.0    0.239146       9.505       0.072  \n",
              "1               48.0    0.281471      14.216       0.031  \n",
              "2               48.0    0.188405       9.111       0.064  \n",
              "3               48.0    0.202919      10.511       0.065  \n",
              "4               48.0    0.259205      15.647       0.066  \n",
              "...              ...         ...         ...         ...  \n",
              "501737          48.0    0.194664      13.767       0.138  \n",
              "501738          48.0    0.427884      21.771       0.169  \n",
              "501739          48.0    0.147605      16.926       0.127  \n",
              "501740          48.0    0.268019      18.267       0.163  \n",
              "501741           NaN         NaN         NaN         NaN  \n",
              "\n",
              "[501742 rows x 9 columns]"
            ],
            "text/html": [
              "\n",
              "  <div id=\"df-262d73a1-231b-4ed2-b76b-f1bee12201a5\" class=\"colab-df-container\">\n",
              "    <div>\n",
              "<style scoped>\n",
              "    .dataframe tbody tr th:only-of-type {\n",
              "        vertical-align: middle;\n",
              "    }\n",
              "\n",
              "    .dataframe tbody tr th {\n",
              "        vertical-align: top;\n",
              "    }\n",
              "\n",
              "    .dataframe thead th {\n",
              "        text-align: right;\n",
              "    }\n",
              "</style>\n",
              "<table border=\"1\" class=\"dataframe\">\n",
              "  <thead>\n",
              "    <tr style=\"text-align: right;\">\n",
              "      <th></th>\n",
              "      <th>LCLid</th>\n",
              "      <th>day</th>\n",
              "      <th>energy_median</th>\n",
              "      <th>energy_mean</th>\n",
              "      <th>energy_max</th>\n",
              "      <th>energy_count</th>\n",
              "      <th>energy_std</th>\n",
              "      <th>energy_sum</th>\n",
              "      <th>energy_min</th>\n",
              "    </tr>\n",
              "  </thead>\n",
              "  <tbody>\n",
              "    <tr>\n",
              "      <th>0</th>\n",
              "      <td>MAC000131</td>\n",
              "      <td>2011-12-15</td>\n",
              "      <td>0.4850</td>\n",
              "      <td>0.432045</td>\n",
              "      <td>0.868</td>\n",
              "      <td>22.0</td>\n",
              "      <td>0.239146</td>\n",
              "      <td>9.505</td>\n",
              "      <td>0.072</td>\n",
              "    </tr>\n",
              "    <tr>\n",
              "      <th>1</th>\n",
              "      <td>MAC000131</td>\n",
              "      <td>2011-12-16</td>\n",
              "      <td>0.1415</td>\n",
              "      <td>0.296167</td>\n",
              "      <td>1.116</td>\n",
              "      <td>48.0</td>\n",
              "      <td>0.281471</td>\n",
              "      <td>14.216</td>\n",
              "      <td>0.031</td>\n",
              "    </tr>\n",
              "    <tr>\n",
              "      <th>2</th>\n",
              "      <td>MAC000131</td>\n",
              "      <td>2011-12-17</td>\n",
              "      <td>0.1015</td>\n",
              "      <td>0.189812</td>\n",
              "      <td>0.685</td>\n",
              "      <td>48.0</td>\n",
              "      <td>0.188405</td>\n",
              "      <td>9.111</td>\n",
              "      <td>0.064</td>\n",
              "    </tr>\n",
              "    <tr>\n",
              "      <th>3</th>\n",
              "      <td>MAC000131</td>\n",
              "      <td>2011-12-18</td>\n",
              "      <td>0.1140</td>\n",
              "      <td>0.218979</td>\n",
              "      <td>0.676</td>\n",
              "      <td>48.0</td>\n",
              "      <td>0.202919</td>\n",
              "      <td>10.511</td>\n",
              "      <td>0.065</td>\n",
              "    </tr>\n",
              "    <tr>\n",
              "      <th>4</th>\n",
              "      <td>MAC000131</td>\n",
              "      <td>2011-12-19</td>\n",
              "      <td>0.1910</td>\n",
              "      <td>0.325979</td>\n",
              "      <td>0.788</td>\n",
              "      <td>48.0</td>\n",
              "      <td>0.259205</td>\n",
              "      <td>15.647</td>\n",
              "      <td>0.066</td>\n",
              "    </tr>\n",
              "    <tr>\n",
              "      <th>...</th>\n",
              "      <td>...</td>\n",
              "      <td>...</td>\n",
              "      <td>...</td>\n",
              "      <td>...</td>\n",
              "      <td>...</td>\n",
              "      <td>...</td>\n",
              "      <td>...</td>\n",
              "      <td>...</td>\n",
              "      <td>...</td>\n",
              "    </tr>\n",
              "    <tr>\n",
              "      <th>501737</th>\n",
              "      <td>MAC004170</td>\n",
              "      <td>2013-03-07</td>\n",
              "      <td>0.2125</td>\n",
              "      <td>0.286812</td>\n",
              "      <td>1.072</td>\n",
              "      <td>48.0</td>\n",
              "      <td>0.194664</td>\n",
              "      <td>13.767</td>\n",
              "      <td>0.138</td>\n",
              "    </tr>\n",
              "    <tr>\n",
              "      <th>501738</th>\n",
              "      <td>MAC004170</td>\n",
              "      <td>2013-03-08</td>\n",
              "      <td>0.3065</td>\n",
              "      <td>0.453563</td>\n",
              "      <td>2.397</td>\n",
              "      <td>48.0</td>\n",
              "      <td>0.427884</td>\n",
              "      <td>21.771</td>\n",
              "      <td>0.169</td>\n",
              "    </tr>\n",
              "    <tr>\n",
              "      <th>501739</th>\n",
              "      <td>MAC004170</td>\n",
              "      <td>2013-03-09</td>\n",
              "      <td>0.3805</td>\n",
              "      <td>0.352625</td>\n",
              "      <td>0.641</td>\n",
              "      <td>48.0</td>\n",
              "      <td>0.147605</td>\n",
              "      <td>16.926</td>\n",
              "      <td>0.127</td>\n",
              "    </tr>\n",
              "    <tr>\n",
              "      <th>501740</th>\n",
              "      <td>MAC004170</td>\n",
              "      <td>2013-03-10</td>\n",
              "      <td>0.3025</td>\n",
              "      <td>0.380563</td>\n",
              "      <td>1.443</td>\n",
              "      <td>48.0</td>\n",
              "      <td>0.268019</td>\n",
              "      <td>18.267</td>\n",
              "      <td>0.163</td>\n",
              "    </tr>\n",
              "    <tr>\n",
              "      <th>501741</th>\n",
              "      <td>MAC004170</td>\n",
              "      <td>2013-03-11</td>\n",
              "      <td>NaN</td>\n",
              "      <td>NaN</td>\n",
              "      <td>NaN</td>\n",
              "      <td>NaN</td>\n",
              "      <td>NaN</td>\n",
              "      <td>NaN</td>\n",
              "      <td>NaN</td>\n",
              "    </tr>\n",
              "  </tbody>\n",
              "</table>\n",
              "<p>501742 rows × 9 columns</p>\n",
              "</div>\n",
              "    <div class=\"colab-df-buttons\">\n",
              "\n",
              "  <div class=\"colab-df-container\">\n",
              "    <button class=\"colab-df-convert\" onclick=\"convertToInteractive('df-262d73a1-231b-4ed2-b76b-f1bee12201a5')\"\n",
              "            title=\"Convert this dataframe to an interactive table.\"\n",
              "            style=\"display:none;\">\n",
              "\n",
              "  <svg xmlns=\"http://www.w3.org/2000/svg\" height=\"24px\" viewBox=\"0 -960 960 960\">\n",
              "    <path d=\"M120-120v-720h720v720H120Zm60-500h600v-160H180v160Zm220 220h160v-160H400v160Zm0 220h160v-160H400v160ZM180-400h160v-160H180v160Zm440 0h160v-160H620v160ZM180-180h160v-160H180v160Zm440 0h160v-160H620v160Z\"/>\n",
              "  </svg>\n",
              "    </button>\n",
              "\n",
              "  <style>\n",
              "    .colab-df-container {\n",
              "      display:flex;\n",
              "      gap: 12px;\n",
              "    }\n",
              "\n",
              "    .colab-df-convert {\n",
              "      background-color: #E8F0FE;\n",
              "      border: none;\n",
              "      border-radius: 50%;\n",
              "      cursor: pointer;\n",
              "      display: none;\n",
              "      fill: #1967D2;\n",
              "      height: 32px;\n",
              "      padding: 0 0 0 0;\n",
              "      width: 32px;\n",
              "    }\n",
              "\n",
              "    .colab-df-convert:hover {\n",
              "      background-color: #E2EBFA;\n",
              "      box-shadow: 0px 1px 2px rgba(60, 64, 67, 0.3), 0px 1px 3px 1px rgba(60, 64, 67, 0.15);\n",
              "      fill: #174EA6;\n",
              "    }\n",
              "\n",
              "    .colab-df-buttons div {\n",
              "      margin-bottom: 4px;\n",
              "    }\n",
              "\n",
              "    [theme=dark] .colab-df-convert {\n",
              "      background-color: #3B4455;\n",
              "      fill: #D2E3FC;\n",
              "    }\n",
              "\n",
              "    [theme=dark] .colab-df-convert:hover {\n",
              "      background-color: #434B5C;\n",
              "      box-shadow: 0px 1px 3px 1px rgba(0, 0, 0, 0.15);\n",
              "      filter: drop-shadow(0px 1px 2px rgba(0, 0, 0, 0.3));\n",
              "      fill: #FFFFFF;\n",
              "    }\n",
              "  </style>\n",
              "\n",
              "    <script>\n",
              "      const buttonEl =\n",
              "        document.querySelector('#df-262d73a1-231b-4ed2-b76b-f1bee12201a5 button.colab-df-convert');\n",
              "      buttonEl.style.display =\n",
              "        google.colab.kernel.accessAllowed ? 'block' : 'none';\n",
              "\n",
              "      async function convertToInteractive(key) {\n",
              "        const element = document.querySelector('#df-262d73a1-231b-4ed2-b76b-f1bee12201a5');\n",
              "        const dataTable =\n",
              "          await google.colab.kernel.invokeFunction('convertToInteractive',\n",
              "                                                    [key], {});\n",
              "        if (!dataTable) return;\n",
              "\n",
              "        const docLinkHtml = 'Like what you see? Visit the ' +\n",
              "          '<a target=\"_blank\" href=https://colab.research.google.com/notebooks/data_table.ipynb>data table notebook</a>'\n",
              "          + ' to learn more about interactive tables.';\n",
              "        element.innerHTML = '';\n",
              "        dataTable['output_type'] = 'display_data';\n",
              "        await google.colab.output.renderOutput(dataTable, element);\n",
              "        const docLink = document.createElement('div');\n",
              "        docLink.innerHTML = docLinkHtml;\n",
              "        element.appendChild(docLink);\n",
              "      }\n",
              "    </script>\n",
              "  </div>\n",
              "\n",
              "\n",
              "<div id=\"df-022abb55-8edf-41ce-b721-2880aa1af33e\">\n",
              "  <button class=\"colab-df-quickchart\" onclick=\"quickchart('df-022abb55-8edf-41ce-b721-2880aa1af33e')\"\n",
              "            title=\"Suggest charts\"\n",
              "            style=\"display:none;\">\n",
              "\n",
              "<svg xmlns=\"http://www.w3.org/2000/svg\" height=\"24px\"viewBox=\"0 0 24 24\"\n",
              "     width=\"24px\">\n",
              "    <g>\n",
              "        <path d=\"M19 3H5c-1.1 0-2 .9-2 2v14c0 1.1.9 2 2 2h14c1.1 0 2-.9 2-2V5c0-1.1-.9-2-2-2zM9 17H7v-7h2v7zm4 0h-2V7h2v10zm4 0h-2v-4h2v4z\"/>\n",
              "    </g>\n",
              "</svg>\n",
              "  </button>\n",
              "\n",
              "<style>\n",
              "  .colab-df-quickchart {\n",
              "      --bg-color: #E8F0FE;\n",
              "      --fill-color: #1967D2;\n",
              "      --hover-bg-color: #E2EBFA;\n",
              "      --hover-fill-color: #174EA6;\n",
              "      --disabled-fill-color: #AAA;\n",
              "      --disabled-bg-color: #DDD;\n",
              "  }\n",
              "\n",
              "  [theme=dark] .colab-df-quickchart {\n",
              "      --bg-color: #3B4455;\n",
              "      --fill-color: #D2E3FC;\n",
              "      --hover-bg-color: #434B5C;\n",
              "      --hover-fill-color: #FFFFFF;\n",
              "      --disabled-bg-color: #3B4455;\n",
              "      --disabled-fill-color: #666;\n",
              "  }\n",
              "\n",
              "  .colab-df-quickchart {\n",
              "    background-color: var(--bg-color);\n",
              "    border: none;\n",
              "    border-radius: 50%;\n",
              "    cursor: pointer;\n",
              "    display: none;\n",
              "    fill: var(--fill-color);\n",
              "    height: 32px;\n",
              "    padding: 0;\n",
              "    width: 32px;\n",
              "  }\n",
              "\n",
              "  .colab-df-quickchart:hover {\n",
              "    background-color: var(--hover-bg-color);\n",
              "    box-shadow: 0 1px 2px rgba(60, 64, 67, 0.3), 0 1px 3px 1px rgba(60, 64, 67, 0.15);\n",
              "    fill: var(--button-hover-fill-color);\n",
              "  }\n",
              "\n",
              "  .colab-df-quickchart-complete:disabled,\n",
              "  .colab-df-quickchart-complete:disabled:hover {\n",
              "    background-color: var(--disabled-bg-color);\n",
              "    fill: var(--disabled-fill-color);\n",
              "    box-shadow: none;\n",
              "  }\n",
              "\n",
              "  .colab-df-spinner {\n",
              "    border: 2px solid var(--fill-color);\n",
              "    border-color: transparent;\n",
              "    border-bottom-color: var(--fill-color);\n",
              "    animation:\n",
              "      spin 1s steps(1) infinite;\n",
              "  }\n",
              "\n",
              "  @keyframes spin {\n",
              "    0% {\n",
              "      border-color: transparent;\n",
              "      border-bottom-color: var(--fill-color);\n",
              "      border-left-color: var(--fill-color);\n",
              "    }\n",
              "    20% {\n",
              "      border-color: transparent;\n",
              "      border-left-color: var(--fill-color);\n",
              "      border-top-color: var(--fill-color);\n",
              "    }\n",
              "    30% {\n",
              "      border-color: transparent;\n",
              "      border-left-color: var(--fill-color);\n",
              "      border-top-color: var(--fill-color);\n",
              "      border-right-color: var(--fill-color);\n",
              "    }\n",
              "    40% {\n",
              "      border-color: transparent;\n",
              "      border-right-color: var(--fill-color);\n",
              "      border-top-color: var(--fill-color);\n",
              "    }\n",
              "    60% {\n",
              "      border-color: transparent;\n",
              "      border-right-color: var(--fill-color);\n",
              "    }\n",
              "    80% {\n",
              "      border-color: transparent;\n",
              "      border-right-color: var(--fill-color);\n",
              "      border-bottom-color: var(--fill-color);\n",
              "    }\n",
              "    90% {\n",
              "      border-color: transparent;\n",
              "      border-bottom-color: var(--fill-color);\n",
              "    }\n",
              "  }\n",
              "</style>\n",
              "\n",
              "  <script>\n",
              "    async function quickchart(key) {\n",
              "      const quickchartButtonEl =\n",
              "        document.querySelector('#' + key + ' button');\n",
              "      quickchartButtonEl.disabled = true;  // To prevent multiple clicks.\n",
              "      quickchartButtonEl.classList.add('colab-df-spinner');\n",
              "      try {\n",
              "        const charts = await google.colab.kernel.invokeFunction(\n",
              "            'suggestCharts', [key], {});\n",
              "      } catch (error) {\n",
              "        console.error('Error during call to suggestCharts:', error);\n",
              "      }\n",
              "      quickchartButtonEl.classList.remove('colab-df-spinner');\n",
              "      quickchartButtonEl.classList.add('colab-df-quickchart-complete');\n",
              "    }\n",
              "    (() => {\n",
              "      let quickchartButtonEl =\n",
              "        document.querySelector('#df-022abb55-8edf-41ce-b721-2880aa1af33e button');\n",
              "      quickchartButtonEl.style.display =\n",
              "        google.colab.kernel.accessAllowed ? 'block' : 'none';\n",
              "    })();\n",
              "  </script>\n",
              "</div>\n",
              "\n",
              "  <div id=\"id_420a40b0-9b35-4747-9786-d1957d98d3cb\">\n",
              "    <style>\n",
              "      .colab-df-generate {\n",
              "        background-color: #E8F0FE;\n",
              "        border: none;\n",
              "        border-radius: 50%;\n",
              "        cursor: pointer;\n",
              "        display: none;\n",
              "        fill: #1967D2;\n",
              "        height: 32px;\n",
              "        padding: 0 0 0 0;\n",
              "        width: 32px;\n",
              "      }\n",
              "\n",
              "      .colab-df-generate:hover {\n",
              "        background-color: #E2EBFA;\n",
              "        box-shadow: 0px 1px 2px rgba(60, 64, 67, 0.3), 0px 1px 3px 1px rgba(60, 64, 67, 0.15);\n",
              "        fill: #174EA6;\n",
              "      }\n",
              "\n",
              "      [theme=dark] .colab-df-generate {\n",
              "        background-color: #3B4455;\n",
              "        fill: #D2E3FC;\n",
              "      }\n",
              "\n",
              "      [theme=dark] .colab-df-generate:hover {\n",
              "        background-color: #434B5C;\n",
              "        box-shadow: 0px 1px 3px 1px rgba(0, 0, 0, 0.15);\n",
              "        filter: drop-shadow(0px 1px 2px rgba(0, 0, 0, 0.3));\n",
              "        fill: #FFFFFF;\n",
              "      }\n",
              "    </style>\n",
              "    <button class=\"colab-df-generate\" onclick=\"generateWithVariable('EC_data')\"\n",
              "            title=\"Generate code using this dataframe.\"\n",
              "            style=\"display:none;\">\n",
              "\n",
              "  <svg xmlns=\"http://www.w3.org/2000/svg\" height=\"24px\"viewBox=\"0 0 24 24\"\n",
              "       width=\"24px\">\n",
              "    <path d=\"M7,19H8.4L18.45,9,17,7.55,7,17.6ZM5,21V16.75L18.45,3.32a2,2,0,0,1,2.83,0l1.4,1.43a1.91,1.91,0,0,1,.58,1.4,1.91,1.91,0,0,1-.58,1.4L9.25,21ZM18.45,9,17,7.55Zm-12,3A5.31,5.31,0,0,0,4.9,8.1,5.31,5.31,0,0,0,1,6.5,5.31,5.31,0,0,0,4.9,4.9,5.31,5.31,0,0,0,6.5,1,5.31,5.31,0,0,0,8.1,4.9,5.31,5.31,0,0,0,12,6.5,5.46,5.46,0,0,0,6.5,12Z\"/>\n",
              "  </svg>\n",
              "    </button>\n",
              "    <script>\n",
              "      (() => {\n",
              "      const buttonEl =\n",
              "        document.querySelector('#id_420a40b0-9b35-4747-9786-d1957d98d3cb button.colab-df-generate');\n",
              "      buttonEl.style.display =\n",
              "        google.colab.kernel.accessAllowed ? 'block' : 'none';\n",
              "\n",
              "      buttonEl.onclick = () => {\n",
              "        google.colab.notebook.generateWithVariable('EC_data');\n",
              "      }\n",
              "      })();\n",
              "    </script>\n",
              "  </div>\n",
              "\n",
              "    </div>\n",
              "  </div>\n"
            ],
            "application/vnd.google.colaboratory.intrinsic+json": {
              "type": "dataframe",
              "variable_name": "EC_data"
            }
          },
          "metadata": {},
          "execution_count": 7
        }
      ]
    },
    {
      "cell_type": "markdown",
      "source": [
        "# Data Pre-Processing"
      ],
      "metadata": {
        "id": "-a_8DIi2ZQZQ"
      }
    },
    {
      "cell_type": "code",
      "source": [
        "# Specify the columns where missing values should be filled with the mean/median/ffill/dropna\n",
        "# # Fill missing values with the mean for the specified columns\n",
        "# EC_data[columns_to_fill] = EC_data[columns_to_fill].fillna(EC_data[columns_to_fill].mean())\n",
        "# EC_data[columns_to_fill] = EC_data[columns_to_fill].fillna(EC_data[columns_to_fill].median())\n",
        "# EC_data[columns_to_fill] = EC_data[columns_to_fill].fillna(method='ffill')\n",
        "# Drop rows with missing values in the specified columns\n",
        "# EC_data[columns_to_fill] = EC_data[columns_to_fill].dropna(subset=columns_to_fill)\n",
        "# EC_data = EC_data.dropna(subset=columns_to_fill)\n",
        "\n",
        "\n",
        "columns_to_fill = ['energy_median', 'energy_mean', 'energy_max', 'energy_count', 'energy_std', 'energy_min']\n",
        "# Fill missing values using linear interpolation\n",
        "EC_data[columns_to_fill] = EC_data[columns_to_fill].interpolate(method='linear')\n"
      ],
      "metadata": {
        "id": "bGqcxmzXZMaA"
      },
      "execution_count": null,
      "outputs": []
    },
    {
      "cell_type": "code",
      "source": [
        "EC_data[columns_to_fill]"
      ],
      "metadata": {
        "colab": {
          "base_uri": "https://localhost:8080/",
          "height": 423
        },
        "id": "FApmh7O-ZXxk",
        "outputId": "cf31eed8-071a-484f-a957-3a037af9b506"
      },
      "execution_count": null,
      "outputs": [
        {
          "output_type": "execute_result",
          "data": {
            "text/plain": [
              "        energy_median  energy_mean  energy_max  energy_count  energy_std  \\\n",
              "0              0.4850     0.432045       0.868          22.0    0.239146   \n",
              "1              0.1415     0.296167       1.116          48.0    0.281471   \n",
              "2              0.1015     0.189812       0.685          48.0    0.188405   \n",
              "3              0.1140     0.218979       0.676          48.0    0.202919   \n",
              "4              0.1910     0.325979       0.788          48.0    0.259205   \n",
              "...               ...          ...         ...           ...         ...   \n",
              "501737         0.2125     0.286812       1.072          48.0    0.194664   \n",
              "501738         0.3065     0.453563       2.397          48.0    0.427884   \n",
              "501739         0.3805     0.352625       0.641          48.0    0.147605   \n",
              "501740         0.3025     0.380563       1.443          48.0    0.268019   \n",
              "501741         0.3025     0.380563       1.443          48.0    0.268019   \n",
              "\n",
              "        energy_min  \n",
              "0            0.072  \n",
              "1            0.031  \n",
              "2            0.064  \n",
              "3            0.065  \n",
              "4            0.066  \n",
              "...            ...  \n",
              "501737       0.138  \n",
              "501738       0.169  \n",
              "501739       0.127  \n",
              "501740       0.163  \n",
              "501741       0.163  \n",
              "\n",
              "[501742 rows x 6 columns]"
            ],
            "text/html": [
              "\n",
              "  <div id=\"df-da2f35bf-aed3-4f0c-8ab3-e1ed374d6af5\" class=\"colab-df-container\">\n",
              "    <div>\n",
              "<style scoped>\n",
              "    .dataframe tbody tr th:only-of-type {\n",
              "        vertical-align: middle;\n",
              "    }\n",
              "\n",
              "    .dataframe tbody tr th {\n",
              "        vertical-align: top;\n",
              "    }\n",
              "\n",
              "    .dataframe thead th {\n",
              "        text-align: right;\n",
              "    }\n",
              "</style>\n",
              "<table border=\"1\" class=\"dataframe\">\n",
              "  <thead>\n",
              "    <tr style=\"text-align: right;\">\n",
              "      <th></th>\n",
              "      <th>energy_median</th>\n",
              "      <th>energy_mean</th>\n",
              "      <th>energy_max</th>\n",
              "      <th>energy_count</th>\n",
              "      <th>energy_std</th>\n",
              "      <th>energy_min</th>\n",
              "    </tr>\n",
              "  </thead>\n",
              "  <tbody>\n",
              "    <tr>\n",
              "      <th>0</th>\n",
              "      <td>0.4850</td>\n",
              "      <td>0.432045</td>\n",
              "      <td>0.868</td>\n",
              "      <td>22.0</td>\n",
              "      <td>0.239146</td>\n",
              "      <td>0.072</td>\n",
              "    </tr>\n",
              "    <tr>\n",
              "      <th>1</th>\n",
              "      <td>0.1415</td>\n",
              "      <td>0.296167</td>\n",
              "      <td>1.116</td>\n",
              "      <td>48.0</td>\n",
              "      <td>0.281471</td>\n",
              "      <td>0.031</td>\n",
              "    </tr>\n",
              "    <tr>\n",
              "      <th>2</th>\n",
              "      <td>0.1015</td>\n",
              "      <td>0.189812</td>\n",
              "      <td>0.685</td>\n",
              "      <td>48.0</td>\n",
              "      <td>0.188405</td>\n",
              "      <td>0.064</td>\n",
              "    </tr>\n",
              "    <tr>\n",
              "      <th>3</th>\n",
              "      <td>0.1140</td>\n",
              "      <td>0.218979</td>\n",
              "      <td>0.676</td>\n",
              "      <td>48.0</td>\n",
              "      <td>0.202919</td>\n",
              "      <td>0.065</td>\n",
              "    </tr>\n",
              "    <tr>\n",
              "      <th>4</th>\n",
              "      <td>0.1910</td>\n",
              "      <td>0.325979</td>\n",
              "      <td>0.788</td>\n",
              "      <td>48.0</td>\n",
              "      <td>0.259205</td>\n",
              "      <td>0.066</td>\n",
              "    </tr>\n",
              "    <tr>\n",
              "      <th>...</th>\n",
              "      <td>...</td>\n",
              "      <td>...</td>\n",
              "      <td>...</td>\n",
              "      <td>...</td>\n",
              "      <td>...</td>\n",
              "      <td>...</td>\n",
              "    </tr>\n",
              "    <tr>\n",
              "      <th>501737</th>\n",
              "      <td>0.2125</td>\n",
              "      <td>0.286812</td>\n",
              "      <td>1.072</td>\n",
              "      <td>48.0</td>\n",
              "      <td>0.194664</td>\n",
              "      <td>0.138</td>\n",
              "    </tr>\n",
              "    <tr>\n",
              "      <th>501738</th>\n",
              "      <td>0.3065</td>\n",
              "      <td>0.453563</td>\n",
              "      <td>2.397</td>\n",
              "      <td>48.0</td>\n",
              "      <td>0.427884</td>\n",
              "      <td>0.169</td>\n",
              "    </tr>\n",
              "    <tr>\n",
              "      <th>501739</th>\n",
              "      <td>0.3805</td>\n",
              "      <td>0.352625</td>\n",
              "      <td>0.641</td>\n",
              "      <td>48.0</td>\n",
              "      <td>0.147605</td>\n",
              "      <td>0.127</td>\n",
              "    </tr>\n",
              "    <tr>\n",
              "      <th>501740</th>\n",
              "      <td>0.3025</td>\n",
              "      <td>0.380563</td>\n",
              "      <td>1.443</td>\n",
              "      <td>48.0</td>\n",
              "      <td>0.268019</td>\n",
              "      <td>0.163</td>\n",
              "    </tr>\n",
              "    <tr>\n",
              "      <th>501741</th>\n",
              "      <td>0.3025</td>\n",
              "      <td>0.380563</td>\n",
              "      <td>1.443</td>\n",
              "      <td>48.0</td>\n",
              "      <td>0.268019</td>\n",
              "      <td>0.163</td>\n",
              "    </tr>\n",
              "  </tbody>\n",
              "</table>\n",
              "<p>501742 rows × 6 columns</p>\n",
              "</div>\n",
              "    <div class=\"colab-df-buttons\">\n",
              "\n",
              "  <div class=\"colab-df-container\">\n",
              "    <button class=\"colab-df-convert\" onclick=\"convertToInteractive('df-da2f35bf-aed3-4f0c-8ab3-e1ed374d6af5')\"\n",
              "            title=\"Convert this dataframe to an interactive table.\"\n",
              "            style=\"display:none;\">\n",
              "\n",
              "  <svg xmlns=\"http://www.w3.org/2000/svg\" height=\"24px\" viewBox=\"0 -960 960 960\">\n",
              "    <path d=\"M120-120v-720h720v720H120Zm60-500h600v-160H180v160Zm220 220h160v-160H400v160Zm0 220h160v-160H400v160ZM180-400h160v-160H180v160Zm440 0h160v-160H620v160ZM180-180h160v-160H180v160Zm440 0h160v-160H620v160Z\"/>\n",
              "  </svg>\n",
              "    </button>\n",
              "\n",
              "  <style>\n",
              "    .colab-df-container {\n",
              "      display:flex;\n",
              "      gap: 12px;\n",
              "    }\n",
              "\n",
              "    .colab-df-convert {\n",
              "      background-color: #E8F0FE;\n",
              "      border: none;\n",
              "      border-radius: 50%;\n",
              "      cursor: pointer;\n",
              "      display: none;\n",
              "      fill: #1967D2;\n",
              "      height: 32px;\n",
              "      padding: 0 0 0 0;\n",
              "      width: 32px;\n",
              "    }\n",
              "\n",
              "    .colab-df-convert:hover {\n",
              "      background-color: #E2EBFA;\n",
              "      box-shadow: 0px 1px 2px rgba(60, 64, 67, 0.3), 0px 1px 3px 1px rgba(60, 64, 67, 0.15);\n",
              "      fill: #174EA6;\n",
              "    }\n",
              "\n",
              "    .colab-df-buttons div {\n",
              "      margin-bottom: 4px;\n",
              "    }\n",
              "\n",
              "    [theme=dark] .colab-df-convert {\n",
              "      background-color: #3B4455;\n",
              "      fill: #D2E3FC;\n",
              "    }\n",
              "\n",
              "    [theme=dark] .colab-df-convert:hover {\n",
              "      background-color: #434B5C;\n",
              "      box-shadow: 0px 1px 3px 1px rgba(0, 0, 0, 0.15);\n",
              "      filter: drop-shadow(0px 1px 2px rgba(0, 0, 0, 0.3));\n",
              "      fill: #FFFFFF;\n",
              "    }\n",
              "  </style>\n",
              "\n",
              "    <script>\n",
              "      const buttonEl =\n",
              "        document.querySelector('#df-da2f35bf-aed3-4f0c-8ab3-e1ed374d6af5 button.colab-df-convert');\n",
              "      buttonEl.style.display =\n",
              "        google.colab.kernel.accessAllowed ? 'block' : 'none';\n",
              "\n",
              "      async function convertToInteractive(key) {\n",
              "        const element = document.querySelector('#df-da2f35bf-aed3-4f0c-8ab3-e1ed374d6af5');\n",
              "        const dataTable =\n",
              "          await google.colab.kernel.invokeFunction('convertToInteractive',\n",
              "                                                    [key], {});\n",
              "        if (!dataTable) return;\n",
              "\n",
              "        const docLinkHtml = 'Like what you see? Visit the ' +\n",
              "          '<a target=\"_blank\" href=https://colab.research.google.com/notebooks/data_table.ipynb>data table notebook</a>'\n",
              "          + ' to learn more about interactive tables.';\n",
              "        element.innerHTML = '';\n",
              "        dataTable['output_type'] = 'display_data';\n",
              "        await google.colab.output.renderOutput(dataTable, element);\n",
              "        const docLink = document.createElement('div');\n",
              "        docLink.innerHTML = docLinkHtml;\n",
              "        element.appendChild(docLink);\n",
              "      }\n",
              "    </script>\n",
              "  </div>\n",
              "\n",
              "\n",
              "<div id=\"df-527e9030-48f5-4cf2-b752-2631ddfd310c\">\n",
              "  <button class=\"colab-df-quickchart\" onclick=\"quickchart('df-527e9030-48f5-4cf2-b752-2631ddfd310c')\"\n",
              "            title=\"Suggest charts\"\n",
              "            style=\"display:none;\">\n",
              "\n",
              "<svg xmlns=\"http://www.w3.org/2000/svg\" height=\"24px\"viewBox=\"0 0 24 24\"\n",
              "     width=\"24px\">\n",
              "    <g>\n",
              "        <path d=\"M19 3H5c-1.1 0-2 .9-2 2v14c0 1.1.9 2 2 2h14c1.1 0 2-.9 2-2V5c0-1.1-.9-2-2-2zM9 17H7v-7h2v7zm4 0h-2V7h2v10zm4 0h-2v-4h2v4z\"/>\n",
              "    </g>\n",
              "</svg>\n",
              "  </button>\n",
              "\n",
              "<style>\n",
              "  .colab-df-quickchart {\n",
              "      --bg-color: #E8F0FE;\n",
              "      --fill-color: #1967D2;\n",
              "      --hover-bg-color: #E2EBFA;\n",
              "      --hover-fill-color: #174EA6;\n",
              "      --disabled-fill-color: #AAA;\n",
              "      --disabled-bg-color: #DDD;\n",
              "  }\n",
              "\n",
              "  [theme=dark] .colab-df-quickchart {\n",
              "      --bg-color: #3B4455;\n",
              "      --fill-color: #D2E3FC;\n",
              "      --hover-bg-color: #434B5C;\n",
              "      --hover-fill-color: #FFFFFF;\n",
              "      --disabled-bg-color: #3B4455;\n",
              "      --disabled-fill-color: #666;\n",
              "  }\n",
              "\n",
              "  .colab-df-quickchart {\n",
              "    background-color: var(--bg-color);\n",
              "    border: none;\n",
              "    border-radius: 50%;\n",
              "    cursor: pointer;\n",
              "    display: none;\n",
              "    fill: var(--fill-color);\n",
              "    height: 32px;\n",
              "    padding: 0;\n",
              "    width: 32px;\n",
              "  }\n",
              "\n",
              "  .colab-df-quickchart:hover {\n",
              "    background-color: var(--hover-bg-color);\n",
              "    box-shadow: 0 1px 2px rgba(60, 64, 67, 0.3), 0 1px 3px 1px rgba(60, 64, 67, 0.15);\n",
              "    fill: var(--button-hover-fill-color);\n",
              "  }\n",
              "\n",
              "  .colab-df-quickchart-complete:disabled,\n",
              "  .colab-df-quickchart-complete:disabled:hover {\n",
              "    background-color: var(--disabled-bg-color);\n",
              "    fill: var(--disabled-fill-color);\n",
              "    box-shadow: none;\n",
              "  }\n",
              "\n",
              "  .colab-df-spinner {\n",
              "    border: 2px solid var(--fill-color);\n",
              "    border-color: transparent;\n",
              "    border-bottom-color: var(--fill-color);\n",
              "    animation:\n",
              "      spin 1s steps(1) infinite;\n",
              "  }\n",
              "\n",
              "  @keyframes spin {\n",
              "    0% {\n",
              "      border-color: transparent;\n",
              "      border-bottom-color: var(--fill-color);\n",
              "      border-left-color: var(--fill-color);\n",
              "    }\n",
              "    20% {\n",
              "      border-color: transparent;\n",
              "      border-left-color: var(--fill-color);\n",
              "      border-top-color: var(--fill-color);\n",
              "    }\n",
              "    30% {\n",
              "      border-color: transparent;\n",
              "      border-left-color: var(--fill-color);\n",
              "      border-top-color: var(--fill-color);\n",
              "      border-right-color: var(--fill-color);\n",
              "    }\n",
              "    40% {\n",
              "      border-color: transparent;\n",
              "      border-right-color: var(--fill-color);\n",
              "      border-top-color: var(--fill-color);\n",
              "    }\n",
              "    60% {\n",
              "      border-color: transparent;\n",
              "      border-right-color: var(--fill-color);\n",
              "    }\n",
              "    80% {\n",
              "      border-color: transparent;\n",
              "      border-right-color: var(--fill-color);\n",
              "      border-bottom-color: var(--fill-color);\n",
              "    }\n",
              "    90% {\n",
              "      border-color: transparent;\n",
              "      border-bottom-color: var(--fill-color);\n",
              "    }\n",
              "  }\n",
              "</style>\n",
              "\n",
              "  <script>\n",
              "    async function quickchart(key) {\n",
              "      const quickchartButtonEl =\n",
              "        document.querySelector('#' + key + ' button');\n",
              "      quickchartButtonEl.disabled = true;  // To prevent multiple clicks.\n",
              "      quickchartButtonEl.classList.add('colab-df-spinner');\n",
              "      try {\n",
              "        const charts = await google.colab.kernel.invokeFunction(\n",
              "            'suggestCharts', [key], {});\n",
              "      } catch (error) {\n",
              "        console.error('Error during call to suggestCharts:', error);\n",
              "      }\n",
              "      quickchartButtonEl.classList.remove('colab-df-spinner');\n",
              "      quickchartButtonEl.classList.add('colab-df-quickchart-complete');\n",
              "    }\n",
              "    (() => {\n",
              "      let quickchartButtonEl =\n",
              "        document.querySelector('#df-527e9030-48f5-4cf2-b752-2631ddfd310c button');\n",
              "      quickchartButtonEl.style.display =\n",
              "        google.colab.kernel.accessAllowed ? 'block' : 'none';\n",
              "    })();\n",
              "  </script>\n",
              "</div>\n",
              "\n",
              "    </div>\n",
              "  </div>\n"
            ],
            "application/vnd.google.colaboratory.intrinsic+json": {
              "type": "dataframe"
            }
          },
          "metadata": {},
          "execution_count": 9
        }
      ]
    },
    {
      "cell_type": "code",
      "source": [
        "# Check there are no missing values in the specified columns\n",
        "print(EC_data[columns_to_fill].isnull().sum())"
      ],
      "metadata": {
        "colab": {
          "base_uri": "https://localhost:8080/"
        },
        "id": "2vD61NLBZi-4",
        "outputId": "7b45245f-bdf9-4a1f-f459-38c9fec59043"
      },
      "execution_count": null,
      "outputs": [
        {
          "output_type": "stream",
          "name": "stdout",
          "text": [
            "energy_median    0\n",
            "energy_mean      0\n",
            "energy_max       0\n",
            "energy_count     0\n",
            "energy_std       0\n",
            "energy_min       0\n",
            "dtype: int64\n"
          ]
        }
      ]
    },
    {
      "cell_type": "markdown",
      "source": [
        "# Feature variables Selection and Target Variable selection"
      ],
      "metadata": {
        "id": "beIhvpOzZzRh"
      }
    },
    {
      "cell_type": "code",
      "source": [
        "# Feature variables Selection and Target Variable selection"
      ],
      "metadata": {
        "id": "Vfl_WAe3ZryR"
      },
      "execution_count": null,
      "outputs": []
    },
    {
      "cell_type": "code",
      "source": [
        "# Define features (X) and target (y)\n",
        "X_input = EC_data[['energy_median', 'energy_mean', 'energy_max', 'energy_count', 'energy_std', 'energy_min']]\n",
        "y_target = EC_data['energy_sum']"
      ],
      "metadata": {
        "id": "aTJJe6ArZmGi"
      },
      "execution_count": null,
      "outputs": []
    },
    {
      "cell_type": "code",
      "source": [
        "X_input"
      ],
      "metadata": {
        "colab": {
          "base_uri": "https://localhost:8080/",
          "height": 423
        },
        "id": "VpjnIJ0tZ2sI",
        "outputId": "19654af9-339f-432b-beb4-1483d16c1c43"
      },
      "execution_count": null,
      "outputs": [
        {
          "output_type": "execute_result",
          "data": {
            "text/plain": [
              "        energy_median  energy_mean  energy_max  energy_count  energy_std  \\\n",
              "0              0.4850     0.432045       0.868          22.0    0.239146   \n",
              "1              0.1415     0.296167       1.116          48.0    0.281471   \n",
              "2              0.1015     0.189812       0.685          48.0    0.188405   \n",
              "3              0.1140     0.218979       0.676          48.0    0.202919   \n",
              "4              0.1910     0.325979       0.788          48.0    0.259205   \n",
              "...               ...          ...         ...           ...         ...   \n",
              "501737         0.2125     0.286812       1.072          48.0    0.194664   \n",
              "501738         0.3065     0.453563       2.397          48.0    0.427884   \n",
              "501739         0.3805     0.352625       0.641          48.0    0.147605   \n",
              "501740         0.3025     0.380563       1.443          48.0    0.268019   \n",
              "501741         0.3025     0.380563       1.443          48.0    0.268019   \n",
              "\n",
              "        energy_min  \n",
              "0            0.072  \n",
              "1            0.031  \n",
              "2            0.064  \n",
              "3            0.065  \n",
              "4            0.066  \n",
              "...            ...  \n",
              "501737       0.138  \n",
              "501738       0.169  \n",
              "501739       0.127  \n",
              "501740       0.163  \n",
              "501741       0.163  \n",
              "\n",
              "[501742 rows x 6 columns]"
            ],
            "text/html": [
              "\n",
              "  <div id=\"df-88ee193b-0ced-4d79-81c3-d856169d3565\" class=\"colab-df-container\">\n",
              "    <div>\n",
              "<style scoped>\n",
              "    .dataframe tbody tr th:only-of-type {\n",
              "        vertical-align: middle;\n",
              "    }\n",
              "\n",
              "    .dataframe tbody tr th {\n",
              "        vertical-align: top;\n",
              "    }\n",
              "\n",
              "    .dataframe thead th {\n",
              "        text-align: right;\n",
              "    }\n",
              "</style>\n",
              "<table border=\"1\" class=\"dataframe\">\n",
              "  <thead>\n",
              "    <tr style=\"text-align: right;\">\n",
              "      <th></th>\n",
              "      <th>energy_median</th>\n",
              "      <th>energy_mean</th>\n",
              "      <th>energy_max</th>\n",
              "      <th>energy_count</th>\n",
              "      <th>energy_std</th>\n",
              "      <th>energy_min</th>\n",
              "    </tr>\n",
              "  </thead>\n",
              "  <tbody>\n",
              "    <tr>\n",
              "      <th>0</th>\n",
              "      <td>0.4850</td>\n",
              "      <td>0.432045</td>\n",
              "      <td>0.868</td>\n",
              "      <td>22.0</td>\n",
              "      <td>0.239146</td>\n",
              "      <td>0.072</td>\n",
              "    </tr>\n",
              "    <tr>\n",
              "      <th>1</th>\n",
              "      <td>0.1415</td>\n",
              "      <td>0.296167</td>\n",
              "      <td>1.116</td>\n",
              "      <td>48.0</td>\n",
              "      <td>0.281471</td>\n",
              "      <td>0.031</td>\n",
              "    </tr>\n",
              "    <tr>\n",
              "      <th>2</th>\n",
              "      <td>0.1015</td>\n",
              "      <td>0.189812</td>\n",
              "      <td>0.685</td>\n",
              "      <td>48.0</td>\n",
              "      <td>0.188405</td>\n",
              "      <td>0.064</td>\n",
              "    </tr>\n",
              "    <tr>\n",
              "      <th>3</th>\n",
              "      <td>0.1140</td>\n",
              "      <td>0.218979</td>\n",
              "      <td>0.676</td>\n",
              "      <td>48.0</td>\n",
              "      <td>0.202919</td>\n",
              "      <td>0.065</td>\n",
              "    </tr>\n",
              "    <tr>\n",
              "      <th>4</th>\n",
              "      <td>0.1910</td>\n",
              "      <td>0.325979</td>\n",
              "      <td>0.788</td>\n",
              "      <td>48.0</td>\n",
              "      <td>0.259205</td>\n",
              "      <td>0.066</td>\n",
              "    </tr>\n",
              "    <tr>\n",
              "      <th>...</th>\n",
              "      <td>...</td>\n",
              "      <td>...</td>\n",
              "      <td>...</td>\n",
              "      <td>...</td>\n",
              "      <td>...</td>\n",
              "      <td>...</td>\n",
              "    </tr>\n",
              "    <tr>\n",
              "      <th>501737</th>\n",
              "      <td>0.2125</td>\n",
              "      <td>0.286812</td>\n",
              "      <td>1.072</td>\n",
              "      <td>48.0</td>\n",
              "      <td>0.194664</td>\n",
              "      <td>0.138</td>\n",
              "    </tr>\n",
              "    <tr>\n",
              "      <th>501738</th>\n",
              "      <td>0.3065</td>\n",
              "      <td>0.453563</td>\n",
              "      <td>2.397</td>\n",
              "      <td>48.0</td>\n",
              "      <td>0.427884</td>\n",
              "      <td>0.169</td>\n",
              "    </tr>\n",
              "    <tr>\n",
              "      <th>501739</th>\n",
              "      <td>0.3805</td>\n",
              "      <td>0.352625</td>\n",
              "      <td>0.641</td>\n",
              "      <td>48.0</td>\n",
              "      <td>0.147605</td>\n",
              "      <td>0.127</td>\n",
              "    </tr>\n",
              "    <tr>\n",
              "      <th>501740</th>\n",
              "      <td>0.3025</td>\n",
              "      <td>0.380563</td>\n",
              "      <td>1.443</td>\n",
              "      <td>48.0</td>\n",
              "      <td>0.268019</td>\n",
              "      <td>0.163</td>\n",
              "    </tr>\n",
              "    <tr>\n",
              "      <th>501741</th>\n",
              "      <td>0.3025</td>\n",
              "      <td>0.380563</td>\n",
              "      <td>1.443</td>\n",
              "      <td>48.0</td>\n",
              "      <td>0.268019</td>\n",
              "      <td>0.163</td>\n",
              "    </tr>\n",
              "  </tbody>\n",
              "</table>\n",
              "<p>501742 rows × 6 columns</p>\n",
              "</div>\n",
              "    <div class=\"colab-df-buttons\">\n",
              "\n",
              "  <div class=\"colab-df-container\">\n",
              "    <button class=\"colab-df-convert\" onclick=\"convertToInteractive('df-88ee193b-0ced-4d79-81c3-d856169d3565')\"\n",
              "            title=\"Convert this dataframe to an interactive table.\"\n",
              "            style=\"display:none;\">\n",
              "\n",
              "  <svg xmlns=\"http://www.w3.org/2000/svg\" height=\"24px\" viewBox=\"0 -960 960 960\">\n",
              "    <path d=\"M120-120v-720h720v720H120Zm60-500h600v-160H180v160Zm220 220h160v-160H400v160Zm0 220h160v-160H400v160ZM180-400h160v-160H180v160Zm440 0h160v-160H620v160ZM180-180h160v-160H180v160Zm440 0h160v-160H620v160Z\"/>\n",
              "  </svg>\n",
              "    </button>\n",
              "\n",
              "  <style>\n",
              "    .colab-df-container {\n",
              "      display:flex;\n",
              "      gap: 12px;\n",
              "    }\n",
              "\n",
              "    .colab-df-convert {\n",
              "      background-color: #E8F0FE;\n",
              "      border: none;\n",
              "      border-radius: 50%;\n",
              "      cursor: pointer;\n",
              "      display: none;\n",
              "      fill: #1967D2;\n",
              "      height: 32px;\n",
              "      padding: 0 0 0 0;\n",
              "      width: 32px;\n",
              "    }\n",
              "\n",
              "    .colab-df-convert:hover {\n",
              "      background-color: #E2EBFA;\n",
              "      box-shadow: 0px 1px 2px rgba(60, 64, 67, 0.3), 0px 1px 3px 1px rgba(60, 64, 67, 0.15);\n",
              "      fill: #174EA6;\n",
              "    }\n",
              "\n",
              "    .colab-df-buttons div {\n",
              "      margin-bottom: 4px;\n",
              "    }\n",
              "\n",
              "    [theme=dark] .colab-df-convert {\n",
              "      background-color: #3B4455;\n",
              "      fill: #D2E3FC;\n",
              "    }\n",
              "\n",
              "    [theme=dark] .colab-df-convert:hover {\n",
              "      background-color: #434B5C;\n",
              "      box-shadow: 0px 1px 3px 1px rgba(0, 0, 0, 0.15);\n",
              "      filter: drop-shadow(0px 1px 2px rgba(0, 0, 0, 0.3));\n",
              "      fill: #FFFFFF;\n",
              "    }\n",
              "  </style>\n",
              "\n",
              "    <script>\n",
              "      const buttonEl =\n",
              "        document.querySelector('#df-88ee193b-0ced-4d79-81c3-d856169d3565 button.colab-df-convert');\n",
              "      buttonEl.style.display =\n",
              "        google.colab.kernel.accessAllowed ? 'block' : 'none';\n",
              "\n",
              "      async function convertToInteractive(key) {\n",
              "        const element = document.querySelector('#df-88ee193b-0ced-4d79-81c3-d856169d3565');\n",
              "        const dataTable =\n",
              "          await google.colab.kernel.invokeFunction('convertToInteractive',\n",
              "                                                    [key], {});\n",
              "        if (!dataTable) return;\n",
              "\n",
              "        const docLinkHtml = 'Like what you see? Visit the ' +\n",
              "          '<a target=\"_blank\" href=https://colab.research.google.com/notebooks/data_table.ipynb>data table notebook</a>'\n",
              "          + ' to learn more about interactive tables.';\n",
              "        element.innerHTML = '';\n",
              "        dataTable['output_type'] = 'display_data';\n",
              "        await google.colab.output.renderOutput(dataTable, element);\n",
              "        const docLink = document.createElement('div');\n",
              "        docLink.innerHTML = docLinkHtml;\n",
              "        element.appendChild(docLink);\n",
              "      }\n",
              "    </script>\n",
              "  </div>\n",
              "\n",
              "\n",
              "<div id=\"df-109d949c-01d1-4db5-b478-acc82d55ef46\">\n",
              "  <button class=\"colab-df-quickchart\" onclick=\"quickchart('df-109d949c-01d1-4db5-b478-acc82d55ef46')\"\n",
              "            title=\"Suggest charts\"\n",
              "            style=\"display:none;\">\n",
              "\n",
              "<svg xmlns=\"http://www.w3.org/2000/svg\" height=\"24px\"viewBox=\"0 0 24 24\"\n",
              "     width=\"24px\">\n",
              "    <g>\n",
              "        <path d=\"M19 3H5c-1.1 0-2 .9-2 2v14c0 1.1.9 2 2 2h14c1.1 0 2-.9 2-2V5c0-1.1-.9-2-2-2zM9 17H7v-7h2v7zm4 0h-2V7h2v10zm4 0h-2v-4h2v4z\"/>\n",
              "    </g>\n",
              "</svg>\n",
              "  </button>\n",
              "\n",
              "<style>\n",
              "  .colab-df-quickchart {\n",
              "      --bg-color: #E8F0FE;\n",
              "      --fill-color: #1967D2;\n",
              "      --hover-bg-color: #E2EBFA;\n",
              "      --hover-fill-color: #174EA6;\n",
              "      --disabled-fill-color: #AAA;\n",
              "      --disabled-bg-color: #DDD;\n",
              "  }\n",
              "\n",
              "  [theme=dark] .colab-df-quickchart {\n",
              "      --bg-color: #3B4455;\n",
              "      --fill-color: #D2E3FC;\n",
              "      --hover-bg-color: #434B5C;\n",
              "      --hover-fill-color: #FFFFFF;\n",
              "      --disabled-bg-color: #3B4455;\n",
              "      --disabled-fill-color: #666;\n",
              "  }\n",
              "\n",
              "  .colab-df-quickchart {\n",
              "    background-color: var(--bg-color);\n",
              "    border: none;\n",
              "    border-radius: 50%;\n",
              "    cursor: pointer;\n",
              "    display: none;\n",
              "    fill: var(--fill-color);\n",
              "    height: 32px;\n",
              "    padding: 0;\n",
              "    width: 32px;\n",
              "  }\n",
              "\n",
              "  .colab-df-quickchart:hover {\n",
              "    background-color: var(--hover-bg-color);\n",
              "    box-shadow: 0 1px 2px rgba(60, 64, 67, 0.3), 0 1px 3px 1px rgba(60, 64, 67, 0.15);\n",
              "    fill: var(--button-hover-fill-color);\n",
              "  }\n",
              "\n",
              "  .colab-df-quickchart-complete:disabled,\n",
              "  .colab-df-quickchart-complete:disabled:hover {\n",
              "    background-color: var(--disabled-bg-color);\n",
              "    fill: var(--disabled-fill-color);\n",
              "    box-shadow: none;\n",
              "  }\n",
              "\n",
              "  .colab-df-spinner {\n",
              "    border: 2px solid var(--fill-color);\n",
              "    border-color: transparent;\n",
              "    border-bottom-color: var(--fill-color);\n",
              "    animation:\n",
              "      spin 1s steps(1) infinite;\n",
              "  }\n",
              "\n",
              "  @keyframes spin {\n",
              "    0% {\n",
              "      border-color: transparent;\n",
              "      border-bottom-color: var(--fill-color);\n",
              "      border-left-color: var(--fill-color);\n",
              "    }\n",
              "    20% {\n",
              "      border-color: transparent;\n",
              "      border-left-color: var(--fill-color);\n",
              "      border-top-color: var(--fill-color);\n",
              "    }\n",
              "    30% {\n",
              "      border-color: transparent;\n",
              "      border-left-color: var(--fill-color);\n",
              "      border-top-color: var(--fill-color);\n",
              "      border-right-color: var(--fill-color);\n",
              "    }\n",
              "    40% {\n",
              "      border-color: transparent;\n",
              "      border-right-color: var(--fill-color);\n",
              "      border-top-color: var(--fill-color);\n",
              "    }\n",
              "    60% {\n",
              "      border-color: transparent;\n",
              "      border-right-color: var(--fill-color);\n",
              "    }\n",
              "    80% {\n",
              "      border-color: transparent;\n",
              "      border-right-color: var(--fill-color);\n",
              "      border-bottom-color: var(--fill-color);\n",
              "    }\n",
              "    90% {\n",
              "      border-color: transparent;\n",
              "      border-bottom-color: var(--fill-color);\n",
              "    }\n",
              "  }\n",
              "</style>\n",
              "\n",
              "  <script>\n",
              "    async function quickchart(key) {\n",
              "      const quickchartButtonEl =\n",
              "        document.querySelector('#' + key + ' button');\n",
              "      quickchartButtonEl.disabled = true;  // To prevent multiple clicks.\n",
              "      quickchartButtonEl.classList.add('colab-df-spinner');\n",
              "      try {\n",
              "        const charts = await google.colab.kernel.invokeFunction(\n",
              "            'suggestCharts', [key], {});\n",
              "      } catch (error) {\n",
              "        console.error('Error during call to suggestCharts:', error);\n",
              "      }\n",
              "      quickchartButtonEl.classList.remove('colab-df-spinner');\n",
              "      quickchartButtonEl.classList.add('colab-df-quickchart-complete');\n",
              "    }\n",
              "    (() => {\n",
              "      let quickchartButtonEl =\n",
              "        document.querySelector('#df-109d949c-01d1-4db5-b478-acc82d55ef46 button');\n",
              "      quickchartButtonEl.style.display =\n",
              "        google.colab.kernel.accessAllowed ? 'block' : 'none';\n",
              "    })();\n",
              "  </script>\n",
              "</div>\n",
              "\n",
              "  <div id=\"id_6a91d86f-3823-4aa4-8d02-6038e8eb8b39\">\n",
              "    <style>\n",
              "      .colab-df-generate {\n",
              "        background-color: #E8F0FE;\n",
              "        border: none;\n",
              "        border-radius: 50%;\n",
              "        cursor: pointer;\n",
              "        display: none;\n",
              "        fill: #1967D2;\n",
              "        height: 32px;\n",
              "        padding: 0 0 0 0;\n",
              "        width: 32px;\n",
              "      }\n",
              "\n",
              "      .colab-df-generate:hover {\n",
              "        background-color: #E2EBFA;\n",
              "        box-shadow: 0px 1px 2px rgba(60, 64, 67, 0.3), 0px 1px 3px 1px rgba(60, 64, 67, 0.15);\n",
              "        fill: #174EA6;\n",
              "      }\n",
              "\n",
              "      [theme=dark] .colab-df-generate {\n",
              "        background-color: #3B4455;\n",
              "        fill: #D2E3FC;\n",
              "      }\n",
              "\n",
              "      [theme=dark] .colab-df-generate:hover {\n",
              "        background-color: #434B5C;\n",
              "        box-shadow: 0px 1px 3px 1px rgba(0, 0, 0, 0.15);\n",
              "        filter: drop-shadow(0px 1px 2px rgba(0, 0, 0, 0.3));\n",
              "        fill: #FFFFFF;\n",
              "      }\n",
              "    </style>\n",
              "    <button class=\"colab-df-generate\" onclick=\"generateWithVariable('X_input')\"\n",
              "            title=\"Generate code using this dataframe.\"\n",
              "            style=\"display:none;\">\n",
              "\n",
              "  <svg xmlns=\"http://www.w3.org/2000/svg\" height=\"24px\"viewBox=\"0 0 24 24\"\n",
              "       width=\"24px\">\n",
              "    <path d=\"M7,19H8.4L18.45,9,17,7.55,7,17.6ZM5,21V16.75L18.45,3.32a2,2,0,0,1,2.83,0l1.4,1.43a1.91,1.91,0,0,1,.58,1.4,1.91,1.91,0,0,1-.58,1.4L9.25,21ZM18.45,9,17,7.55Zm-12,3A5.31,5.31,0,0,0,4.9,8.1,5.31,5.31,0,0,0,1,6.5,5.31,5.31,0,0,0,4.9,4.9,5.31,5.31,0,0,0,6.5,1,5.31,5.31,0,0,0,8.1,4.9,5.31,5.31,0,0,0,12,6.5,5.46,5.46,0,0,0,6.5,12Z\"/>\n",
              "  </svg>\n",
              "    </button>\n",
              "    <script>\n",
              "      (() => {\n",
              "      const buttonEl =\n",
              "        document.querySelector('#id_6a91d86f-3823-4aa4-8d02-6038e8eb8b39 button.colab-df-generate');\n",
              "      buttonEl.style.display =\n",
              "        google.colab.kernel.accessAllowed ? 'block' : 'none';\n",
              "\n",
              "      buttonEl.onclick = () => {\n",
              "        google.colab.notebook.generateWithVariable('X_input');\n",
              "      }\n",
              "      })();\n",
              "    </script>\n",
              "  </div>\n",
              "\n",
              "    </div>\n",
              "  </div>\n"
            ],
            "application/vnd.google.colaboratory.intrinsic+json": {
              "type": "dataframe",
              "variable_name": "X_input"
            }
          },
          "metadata": {},
          "execution_count": 13
        }
      ]
    },
    {
      "cell_type": "code",
      "source": [
        "y_target"
      ],
      "metadata": {
        "colab": {
          "base_uri": "https://localhost:8080/",
          "height": 458
        },
        "id": "2i0H0J3DZ61z",
        "outputId": "e6bf259f-95df-4a11-9e6c-33e7c1636649"
      },
      "execution_count": null,
      "outputs": [
        {
          "output_type": "execute_result",
          "data": {
            "text/plain": [
              "0          9.505\n",
              "1         14.216\n",
              "2          9.111\n",
              "3         10.511\n",
              "4         15.647\n",
              "           ...  \n",
              "501737    13.767\n",
              "501738    21.771\n",
              "501739    16.926\n",
              "501740    18.267\n",
              "501741       NaN\n",
              "Name: energy_sum, Length: 501742, dtype: float64"
            ],
            "text/html": [
              "<div>\n",
              "<style scoped>\n",
              "    .dataframe tbody tr th:only-of-type {\n",
              "        vertical-align: middle;\n",
              "    }\n",
              "\n",
              "    .dataframe tbody tr th {\n",
              "        vertical-align: top;\n",
              "    }\n",
              "\n",
              "    .dataframe thead th {\n",
              "        text-align: right;\n",
              "    }\n",
              "</style>\n",
              "<table border=\"1\" class=\"dataframe\">\n",
              "  <thead>\n",
              "    <tr style=\"text-align: right;\">\n",
              "      <th></th>\n",
              "      <th>energy_sum</th>\n",
              "    </tr>\n",
              "  </thead>\n",
              "  <tbody>\n",
              "    <tr>\n",
              "      <th>0</th>\n",
              "      <td>9.505</td>\n",
              "    </tr>\n",
              "    <tr>\n",
              "      <th>1</th>\n",
              "      <td>14.216</td>\n",
              "    </tr>\n",
              "    <tr>\n",
              "      <th>2</th>\n",
              "      <td>9.111</td>\n",
              "    </tr>\n",
              "    <tr>\n",
              "      <th>3</th>\n",
              "      <td>10.511</td>\n",
              "    </tr>\n",
              "    <tr>\n",
              "      <th>4</th>\n",
              "      <td>15.647</td>\n",
              "    </tr>\n",
              "    <tr>\n",
              "      <th>...</th>\n",
              "      <td>...</td>\n",
              "    </tr>\n",
              "    <tr>\n",
              "      <th>501737</th>\n",
              "      <td>13.767</td>\n",
              "    </tr>\n",
              "    <tr>\n",
              "      <th>501738</th>\n",
              "      <td>21.771</td>\n",
              "    </tr>\n",
              "    <tr>\n",
              "      <th>501739</th>\n",
              "      <td>16.926</td>\n",
              "    </tr>\n",
              "    <tr>\n",
              "      <th>501740</th>\n",
              "      <td>18.267</td>\n",
              "    </tr>\n",
              "    <tr>\n",
              "      <th>501741</th>\n",
              "      <td>NaN</td>\n",
              "    </tr>\n",
              "  </tbody>\n",
              "</table>\n",
              "<p>501742 rows × 1 columns</p>\n",
              "</div><br><label><b>dtype:</b> float64</label>"
            ]
          },
          "metadata": {},
          "execution_count": 14
        }
      ]
    },
    {
      "cell_type": "code",
      "source": [
        "print(y_target.isnull().sum())"
      ],
      "metadata": {
        "colab": {
          "base_uri": "https://localhost:8080/"
        },
        "id": "-7N8nyiHZ7Zt",
        "outputId": "b7040218-85ed-420d-e3b9-625434842c9d"
      },
      "execution_count": null,
      "outputs": [
        {
          "output_type": "stream",
          "name": "stdout",
          "text": [
            "7\n"
          ]
        }
      ]
    },
    {
      "cell_type": "code",
      "source": [
        "# y_target = y_target.fillna(y_target.median())\n",
        "# Forward fill\n",
        "# y_target = y_target.fillna(method='ffill')\n",
        "\n",
        "# Fill missing values of Target feature using linear interpolation\n",
        "y_target = y_target.interpolate(method='linear')"
      ],
      "metadata": {
        "id": "wDkOAcmLZ9co"
      },
      "execution_count": null,
      "outputs": []
    },
    {
      "cell_type": "code",
      "source": [
        "print(y_target.isnull().sum())"
      ],
      "metadata": {
        "colab": {
          "base_uri": "https://localhost:8080/"
        },
        "id": "-nW_C63-aIy8",
        "outputId": "bdae9970-eb44-42e6-e2d1-edcd8e2c5cf8"
      },
      "execution_count": null,
      "outputs": [
        {
          "output_type": "stream",
          "name": "stdout",
          "text": [
            "0\n"
          ]
        }
      ]
    },
    {
      "cell_type": "markdown",
      "source": [
        "# Dividing Data into Train and Test"
      ],
      "metadata": {
        "id": "3epL1kRbaRBL"
      }
    },
    {
      "cell_type": "code",
      "source": [
        "X_train, X_test, y_train, y_test = train_test_split(X_input, y_target, test_size=0.2, random_state=42)\n"
      ],
      "metadata": {
        "id": "fKX4RHbKaLHn"
      },
      "execution_count": null,
      "outputs": []
    },
    {
      "cell_type": "code",
      "source": [
        "\n",
        "# Display shapes of training and testing data\n",
        "print(f\"X_train shape: {X_train.shape}\")\n",
        "print(f\"X_test shape: {X_test.shape}\")\n",
        "print(f\"y_train shape: {y_train.shape}\")\n",
        "print(f\"y_test shape: {y_test.shape}\")"
      ],
      "metadata": {
        "colab": {
          "base_uri": "https://localhost:8080/"
        },
        "id": "DVyBBTY2aP1o",
        "outputId": "11a2d093-6338-4230-8bfe-2a2cd00f16c7"
      },
      "execution_count": null,
      "outputs": [
        {
          "output_type": "stream",
          "name": "stdout",
          "text": [
            "X_train shape: (401393, 6)\n",
            "X_test shape: (100349, 6)\n",
            "y_train shape: (401393,)\n",
            "y_test shape: (100349,)\n"
          ]
        }
      ]
    },
    {
      "cell_type": "markdown",
      "source": [
        "## Model Selection Linear Regression"
      ],
      "metadata": {
        "id": "sVRHZQ5TaZta"
      }
    },
    {
      "cell_type": "code",
      "source": [
        "# Initialize and train the Linear Regression model\n",
        "EC_lr_model = LinearRegression()\n",
        "EC_lr_model.fit(X_train, y_train)\n",
        "\n",
        "# Predict on the test set\n",
        "y_pred_lr = EC_lr_model.predict(X_test)\n",
        "\n",
        "# Evaluate the Linear Regression model\n",
        "mse_lr = mean_squared_error(y_test, y_pred_lr)\n",
        "r2_lr = r2_score(y_test, y_pred_lr)\n",
        "\n",
        "# Root Mean Squared Error\n",
        "rmse_lr = np.sqrt(mse_lr)\n",
        "\n",
        "print(f\"Linear Regression - MSE: {mse_lr:.2f}, R2: {r2_lr:.2f}, RMSE: {rmse_lr:.2f}\")\n"
      ],
      "metadata": {
        "colab": {
          "base_uri": "https://localhost:8080/"
        },
        "id": "wxL6Mo5DaVzJ",
        "outputId": "ae5c21b3-ff7d-4590-8569-2f18182f931c"
      },
      "execution_count": null,
      "outputs": [
        {
          "output_type": "stream",
          "name": "stdout",
          "text": [
            "Linear Regression - MSE: 1.63, R2: 0.98, RMSE: 1.28\n"
          ]
        }
      ]
    },
    {
      "cell_type": "code",
      "source": [
        "new_input = pd.DataFrame({\n",
        "    'energy_median': [0.4850],  # replace with actual value\n",
        "    'energy_mean': [0.432045],    # replace with actual value\n",
        "    'energy_max': [0.868],    # replace with actual value\n",
        "    'energy_count': [22],   # replace with actual value\n",
        "    'energy_std': [0.239146],     # replace with actual value\n",
        "    #'energy_sum': [1500],   # replace with actual value\n",
        "    'energy_min': [0.072]      # replace with actual value\n",
        "})\n",
        "\n",
        "# Display the new input\n",
        "print(new_input)"
      ],
      "metadata": {
        "colab": {
          "base_uri": "https://localhost:8080/"
        },
        "id": "-0FpfFWtadie",
        "outputId": "9176473c-1d1e-4f4f-8c0e-7e9a42f8a429"
      },
      "execution_count": null,
      "outputs": [
        {
          "output_type": "stream",
          "name": "stdout",
          "text": [
            "   energy_median  energy_mean  energy_max  energy_count  energy_std  \\\n",
            "0          0.485     0.432045       0.868            22    0.239146   \n",
            "\n",
            "   energy_min  \n",
            "0       0.072  \n"
          ]
        }
      ]
    },
    {
      "cell_type": "code",
      "source": [
        "# Predict energy consumption using Random Forest\n",
        "lr_prediction = EC_lr_model.predict(new_input)\n",
        "print(f'Predicted Energy Consumption (Decision Tree): {lr_prediction[0]}')"
      ],
      "metadata": {
        "colab": {
          "base_uri": "https://localhost:8080/"
        },
        "id": "4YQTvS7pagNd",
        "outputId": "9eded227-e950-47d5-c6f8-d20af9446646"
      },
      "execution_count": null,
      "outputs": [
        {
          "output_type": "stream",
          "name": "stdout",
          "text": [
            "Predicted Energy Consumption (Decision Tree): 16.559008597760823\n"
          ]
        }
      ]
    },
    {
      "cell_type": "markdown",
      "source": [
        "##  Model Selection Elastic Net Regression"
      ],
      "metadata": {
        "id": "Oy4yDNpQaml2"
      }
    },
    {
      "cell_type": "code",
      "source": [
        "from sklearn.linear_model import ElasticNet\n",
        "EC_EN_model = ElasticNet(alpha=0.1, l1_ratio=0.7)\n",
        "\n",
        "EC_EN_model.fit(X_train, y_train)\n",
        "\n",
        "# Predict on the test set\n",
        "y_pred_en = EC_EN_model.predict(X_test)\n",
        "\n",
        "# Evaluate the Linear Regression model\n",
        "mse_en = mean_squared_error(y_test, y_pred_en)\n",
        "r2_en = r2_score(y_test, y_pred_en)\n",
        "\n",
        "# Root Mean Squared Error\n",
        "rmse_en = np.sqrt(mse_en)\n",
        "\n",
        "print(f\"Linear Regression - MSE: {mse_en:.2f}, R2: {r2_en:.2f}, RMSE: {rmse_en:.2f}\")"
      ],
      "metadata": {
        "colab": {
          "base_uri": "https://localhost:8080/"
        },
        "id": "K5uSonRSaio6",
        "outputId": "66280116-fef1-41e2-e0f0-5950e2136e00"
      },
      "execution_count": null,
      "outputs": [
        {
          "output_type": "stream",
          "name": "stdout",
          "text": [
            "Linear Regression - MSE: 9.62, R2: 0.86, RMSE: 3.10\n"
          ]
        }
      ]
    },
    {
      "cell_type": "code",
      "source": [
        "# Predict energy consumption using Random Forest\n",
        "EC_EN_prediction = EC_EN_model.predict(new_input)\n",
        "print(f'Predicted Energy Consumption (ElasticNet Regression): {EC_EN_prediction[0]}')"
      ],
      "metadata": {
        "colab": {
          "base_uri": "https://localhost:8080/"
        },
        "id": "RYdRw83gawGk",
        "outputId": "30e3d201-a675-4b39-cc20-df94b2be1739"
      },
      "execution_count": null,
      "outputs": [
        {
          "output_type": "stream",
          "name": "stdout",
          "text": [
            "Predicted Energy Consumption (ElasticNet Regression): 12.358126705519462\n"
          ]
        }
      ]
    },
    {
      "cell_type": "markdown",
      "source": [
        "##  Model Selection RandomForest Regression"
      ],
      "metadata": {
        "id": "9M3evqMUbOLm"
      }
    },
    {
      "cell_type": "code",
      "source": [
        "# Initialize and train the Random Forest model\n",
        "ec_rf_model = RandomForestRegressor(n_estimators=50, random_state=42)\n",
        "ec_rf_model.fit(X_train, y_train)\n",
        "\n",
        "# Predict on the test set\n",
        "y_pred_rf = ec_rf_model.predict(X_test)\n",
        "\n",
        "# Evaluate the Random Forest model\n",
        "mse_rf = mean_squared_error(y_test, y_pred_rf)\n",
        "r2_rf = r2_score(y_test, y_pred_rf)\n",
        "\n",
        "# Root Mean Squared Error\n",
        "rmse_rf = np.sqrt(mse_rf)\n",
        "\n",
        "print(f\"Random Forest - MSE: {mse_rf:.2f}, R2: {r2_rf:.2f}, RMSE: {rmse_rf:.2f}\")\n"
      ],
      "metadata": {
        "colab": {
          "base_uri": "https://localhost:8080/"
        },
        "id": "AhN0SOnHbB46",
        "outputId": "5f0854d0-e570-45ec-80cc-92e580cb8e24"
      },
      "execution_count": null,
      "outputs": [
        {
          "output_type": "stream",
          "name": "stdout",
          "text": [
            "Random Forest - MSE: 0.74, R2: 0.99, RMSE: 0.86\n"
          ]
        }
      ]
    },
    {
      "cell_type": "code",
      "source": [
        "# Predict energy consumption using Random Forest\n",
        "EC_rf_prediction = ec_rf_model.predict(new_input)\n",
        "print(f'Predicted Energy Consumption (RandomForest Regression): {EC_rf_prediction[0]}')"
      ],
      "metadata": {
        "colab": {
          "base_uri": "https://localhost:8080/"
        },
        "id": "Ui5KcF4ubUSd",
        "outputId": "38a4272b-69a2-46dd-bb3f-361f8397c94b"
      },
      "execution_count": null,
      "outputs": [
        {
          "output_type": "stream",
          "name": "stdout",
          "text": [
            "Predicted Energy Consumption (RandomForest Regression): 9.559380001999996\n"
          ]
        }
      ]
    },
    {
      "cell_type": "code",
      "source": [
        "import plotly.graph_objects as go\n",
        "\n",
        "# comparison table for the mestrci used in the different models.\n",
        "EC_data = {\n",
        "    'Model': ['Linear Regression', 'Elastic Net Regression', 'Random Forest'],\n",
        "    'MSE': [mse_lr, mse_en, mse_rf],\n",
        "    'R²': [r2_lr, r2_en, r2_rf],\n",
        "    'RMSE': [rmse_lr, rmse_en, rmse_rf]\n",
        "}\n",
        "\n",
        "# Create a Plotly Table\n",
        "fig = go.Figure(data=[go.Table(\n",
        "    header=dict(\n",
        "        values=[\"<b>Model</b>\", \"<b>MSE</b>\", \"<b>R²</b>\", \"<b>RMSE</b>\"],\n",
        "        fill_color=\"#264653\",\n",
        "        font=dict(color=\"white\", size=14),\n",
        "        align=\"center\",\n",
        "    ),\n",
        "    cells=dict(\n",
        "        values=[EC_data['Model'], EC_data['MSE'], EC_data['R²'], EC_data['RMSE']],\n",
        "        fill_color=[[\"#e9f5db\"] * len(EC_data['Model']),\n",
        "                    [\"#f6c28b\"] * len(EC_data['MSE']),\n",
        "                    [\"#d5a6bd\"] * len(EC_data['R²']),\n",
        "                    [\"#e9f5db\"] * len(EC_data['RMSE'])],\n",
        "        font=dict(color=\"black\", size=12),\n",
        "        align=\"center\",\n",
        "    )\n",
        ")])\n",
        "\n",
        "# Customize layout\n",
        "fig.update_layout(\n",
        "    title=\"Model Performance Comparison\",\n",
        "    title_font=dict(size=18, family='Arial', color='#DE3163'),\n",
        "    margin=dict(l=15, r=15, t=50, b=30),\n",
        ")\n",
        "\n",
        "# Show the table\n",
        "fig.show()\n"
      ],
      "metadata": {
        "colab": {
          "base_uri": "https://localhost:8080/",
          "height": 542
        },
        "id": "WwGUqhnLof9V",
        "outputId": "01eecd2a-88b5-4785-89fe-5c42971a30cd"
      },
      "execution_count": null,
      "outputs": [
        {
          "output_type": "display_data",
          "data": {
            "text/html": [
              "<html>\n",
              "<head><meta charset=\"utf-8\" /></head>\n",
              "<body>\n",
              "    <div>            <script src=\"https://cdnjs.cloudflare.com/ajax/libs/mathjax/2.7.5/MathJax.js?config=TeX-AMS-MML_SVG\"></script><script type=\"text/javascript\">if (window.MathJax && window.MathJax.Hub && window.MathJax.Hub.Config) {window.MathJax.Hub.Config({SVG: {font: \"STIX-Web\"}});}</script>                <script type=\"text/javascript\">window.PlotlyConfig = {MathJaxConfig: 'local'};</script>\n",
              "        <script charset=\"utf-8\" src=\"https://cdn.plot.ly/plotly-2.35.2.min.js\"></script>                <div id=\"baa73060-9f08-4a3d-8f1d-9f8b0eec7011\" class=\"plotly-graph-div\" style=\"height:525px; width:100%;\"></div>            <script type=\"text/javascript\">                                    window.PLOTLYENV=window.PLOTLYENV || {};                                    if (document.getElementById(\"baa73060-9f08-4a3d-8f1d-9f8b0eec7011\")) {                    Plotly.newPlot(                        \"baa73060-9f08-4a3d-8f1d-9f8b0eec7011\",                        [{\"cells\":{\"align\":\"center\",\"fill\":{\"color\":[[\"#e9f5db\",\"#e9f5db\",\"#e9f5db\"],[\"#f6c28b\",\"#f6c28b\",\"#f6c28b\"],[\"#d5a6bd\",\"#d5a6bd\",\"#d5a6bd\"],[\"#e9f5db\",\"#e9f5db\",\"#e9f5db\"]]},\"font\":{\"color\":\"black\",\"size\":12},\"values\":[[\"Linear Regression\",\"Elastic Net Regression\",\"Random Forest\"],[1.6336467667557293,9.61687604533867,0.7400790272641612],[0.9755485362050524,0.8560602565816132,0.9889229324791634],[1.2781419196457524,3.101108841259634,0.8602784591422484]]},\"header\":{\"align\":\"center\",\"fill\":{\"color\":\"#264653\"},\"font\":{\"color\":\"white\",\"size\":14},\"values\":[\"\\u003cb\\u003eModel\\u003c\\u002fb\\u003e\",\"\\u003cb\\u003eMSE\\u003c\\u002fb\\u003e\",\"\\u003cb\\u003eR²\\u003c\\u002fb\\u003e\",\"\\u003cb\\u003eRMSE\\u003c\\u002fb\\u003e\"]},\"type\":\"table\"}],                        {\"template\":{\"data\":{\"histogram2dcontour\":[{\"type\":\"histogram2dcontour\",\"colorbar\":{\"outlinewidth\":0,\"ticks\":\"\"},\"colorscale\":[[0.0,\"#0d0887\"],[0.1111111111111111,\"#46039f\"],[0.2222222222222222,\"#7201a8\"],[0.3333333333333333,\"#9c179e\"],[0.4444444444444444,\"#bd3786\"],[0.5555555555555556,\"#d8576b\"],[0.6666666666666666,\"#ed7953\"],[0.7777777777777778,\"#fb9f3a\"],[0.8888888888888888,\"#fdca26\"],[1.0,\"#f0f921\"]]}],\"choropleth\":[{\"type\":\"choropleth\",\"colorbar\":{\"outlinewidth\":0,\"ticks\":\"\"}}],\"histogram2d\":[{\"type\":\"histogram2d\",\"colorbar\":{\"outlinewidth\":0,\"ticks\":\"\"},\"colorscale\":[[0.0,\"#0d0887\"],[0.1111111111111111,\"#46039f\"],[0.2222222222222222,\"#7201a8\"],[0.3333333333333333,\"#9c179e\"],[0.4444444444444444,\"#bd3786\"],[0.5555555555555556,\"#d8576b\"],[0.6666666666666666,\"#ed7953\"],[0.7777777777777778,\"#fb9f3a\"],[0.8888888888888888,\"#fdca26\"],[1.0,\"#f0f921\"]]}],\"heatmap\":[{\"type\":\"heatmap\",\"colorbar\":{\"outlinewidth\":0,\"ticks\":\"\"},\"colorscale\":[[0.0,\"#0d0887\"],[0.1111111111111111,\"#46039f\"],[0.2222222222222222,\"#7201a8\"],[0.3333333333333333,\"#9c179e\"],[0.4444444444444444,\"#bd3786\"],[0.5555555555555556,\"#d8576b\"],[0.6666666666666666,\"#ed7953\"],[0.7777777777777778,\"#fb9f3a\"],[0.8888888888888888,\"#fdca26\"],[1.0,\"#f0f921\"]]}],\"heatmapgl\":[{\"type\":\"heatmapgl\",\"colorbar\":{\"outlinewidth\":0,\"ticks\":\"\"},\"colorscale\":[[0.0,\"#0d0887\"],[0.1111111111111111,\"#46039f\"],[0.2222222222222222,\"#7201a8\"],[0.3333333333333333,\"#9c179e\"],[0.4444444444444444,\"#bd3786\"],[0.5555555555555556,\"#d8576b\"],[0.6666666666666666,\"#ed7953\"],[0.7777777777777778,\"#fb9f3a\"],[0.8888888888888888,\"#fdca26\"],[1.0,\"#f0f921\"]]}],\"contourcarpet\":[{\"type\":\"contourcarpet\",\"colorbar\":{\"outlinewidth\":0,\"ticks\":\"\"}}],\"contour\":[{\"type\":\"contour\",\"colorbar\":{\"outlinewidth\":0,\"ticks\":\"\"},\"colorscale\":[[0.0,\"#0d0887\"],[0.1111111111111111,\"#46039f\"],[0.2222222222222222,\"#7201a8\"],[0.3333333333333333,\"#9c179e\"],[0.4444444444444444,\"#bd3786\"],[0.5555555555555556,\"#d8576b\"],[0.6666666666666666,\"#ed7953\"],[0.7777777777777778,\"#fb9f3a\"],[0.8888888888888888,\"#fdca26\"],[1.0,\"#f0f921\"]]}],\"surface\":[{\"type\":\"surface\",\"colorbar\":{\"outlinewidth\":0,\"ticks\":\"\"},\"colorscale\":[[0.0,\"#0d0887\"],[0.1111111111111111,\"#46039f\"],[0.2222222222222222,\"#7201a8\"],[0.3333333333333333,\"#9c179e\"],[0.4444444444444444,\"#bd3786\"],[0.5555555555555556,\"#d8576b\"],[0.6666666666666666,\"#ed7953\"],[0.7777777777777778,\"#fb9f3a\"],[0.8888888888888888,\"#fdca26\"],[1.0,\"#f0f921\"]]}],\"mesh3d\":[{\"type\":\"mesh3d\",\"colorbar\":{\"outlinewidth\":0,\"ticks\":\"\"}}],\"scatter\":[{\"fillpattern\":{\"fillmode\":\"overlay\",\"size\":10,\"solidity\":0.2},\"type\":\"scatter\"}],\"parcoords\":[{\"type\":\"parcoords\",\"line\":{\"colorbar\":{\"outlinewidth\":0,\"ticks\":\"\"}}}],\"scatterpolargl\":[{\"type\":\"scatterpolargl\",\"marker\":{\"colorbar\":{\"outlinewidth\":0,\"ticks\":\"\"}}}],\"bar\":[{\"error_x\":{\"color\":\"#2a3f5f\"},\"error_y\":{\"color\":\"#2a3f5f\"},\"marker\":{\"line\":{\"color\":\"#E5ECF6\",\"width\":0.5},\"pattern\":{\"fillmode\":\"overlay\",\"size\":10,\"solidity\":0.2}},\"type\":\"bar\"}],\"scattergeo\":[{\"type\":\"scattergeo\",\"marker\":{\"colorbar\":{\"outlinewidth\":0,\"ticks\":\"\"}}}],\"scatterpolar\":[{\"type\":\"scatterpolar\",\"marker\":{\"colorbar\":{\"outlinewidth\":0,\"ticks\":\"\"}}}],\"histogram\":[{\"marker\":{\"pattern\":{\"fillmode\":\"overlay\",\"size\":10,\"solidity\":0.2}},\"type\":\"histogram\"}],\"scattergl\":[{\"type\":\"scattergl\",\"marker\":{\"colorbar\":{\"outlinewidth\":0,\"ticks\":\"\"}}}],\"scatter3d\":[{\"type\":\"scatter3d\",\"line\":{\"colorbar\":{\"outlinewidth\":0,\"ticks\":\"\"}},\"marker\":{\"colorbar\":{\"outlinewidth\":0,\"ticks\":\"\"}}}],\"scattermapbox\":[{\"type\":\"scattermapbox\",\"marker\":{\"colorbar\":{\"outlinewidth\":0,\"ticks\":\"\"}}}],\"scatterternary\":[{\"type\":\"scatterternary\",\"marker\":{\"colorbar\":{\"outlinewidth\":0,\"ticks\":\"\"}}}],\"scattercarpet\":[{\"type\":\"scattercarpet\",\"marker\":{\"colorbar\":{\"outlinewidth\":0,\"ticks\":\"\"}}}],\"carpet\":[{\"aaxis\":{\"endlinecolor\":\"#2a3f5f\",\"gridcolor\":\"white\",\"linecolor\":\"white\",\"minorgridcolor\":\"white\",\"startlinecolor\":\"#2a3f5f\"},\"baxis\":{\"endlinecolor\":\"#2a3f5f\",\"gridcolor\":\"white\",\"linecolor\":\"white\",\"minorgridcolor\":\"white\",\"startlinecolor\":\"#2a3f5f\"},\"type\":\"carpet\"}],\"table\":[{\"cells\":{\"fill\":{\"color\":\"#EBF0F8\"},\"line\":{\"color\":\"white\"}},\"header\":{\"fill\":{\"color\":\"#C8D4E3\"},\"line\":{\"color\":\"white\"}},\"type\":\"table\"}],\"barpolar\":[{\"marker\":{\"line\":{\"color\":\"#E5ECF6\",\"width\":0.5},\"pattern\":{\"fillmode\":\"overlay\",\"size\":10,\"solidity\":0.2}},\"type\":\"barpolar\"}],\"pie\":[{\"automargin\":true,\"type\":\"pie\"}]},\"layout\":{\"autotypenumbers\":\"strict\",\"colorway\":[\"#636efa\",\"#EF553B\",\"#00cc96\",\"#ab63fa\",\"#FFA15A\",\"#19d3f3\",\"#FF6692\",\"#B6E880\",\"#FF97FF\",\"#FECB52\"],\"font\":{\"color\":\"#2a3f5f\"},\"hovermode\":\"closest\",\"hoverlabel\":{\"align\":\"left\"},\"paper_bgcolor\":\"white\",\"plot_bgcolor\":\"#E5ECF6\",\"polar\":{\"bgcolor\":\"#E5ECF6\",\"angularaxis\":{\"gridcolor\":\"white\",\"linecolor\":\"white\",\"ticks\":\"\"},\"radialaxis\":{\"gridcolor\":\"white\",\"linecolor\":\"white\",\"ticks\":\"\"}},\"ternary\":{\"bgcolor\":\"#E5ECF6\",\"aaxis\":{\"gridcolor\":\"white\",\"linecolor\":\"white\",\"ticks\":\"\"},\"baxis\":{\"gridcolor\":\"white\",\"linecolor\":\"white\",\"ticks\":\"\"},\"caxis\":{\"gridcolor\":\"white\",\"linecolor\":\"white\",\"ticks\":\"\"}},\"coloraxis\":{\"colorbar\":{\"outlinewidth\":0,\"ticks\":\"\"}},\"colorscale\":{\"sequential\":[[0.0,\"#0d0887\"],[0.1111111111111111,\"#46039f\"],[0.2222222222222222,\"#7201a8\"],[0.3333333333333333,\"#9c179e\"],[0.4444444444444444,\"#bd3786\"],[0.5555555555555556,\"#d8576b\"],[0.6666666666666666,\"#ed7953\"],[0.7777777777777778,\"#fb9f3a\"],[0.8888888888888888,\"#fdca26\"],[1.0,\"#f0f921\"]],\"sequentialminus\":[[0.0,\"#0d0887\"],[0.1111111111111111,\"#46039f\"],[0.2222222222222222,\"#7201a8\"],[0.3333333333333333,\"#9c179e\"],[0.4444444444444444,\"#bd3786\"],[0.5555555555555556,\"#d8576b\"],[0.6666666666666666,\"#ed7953\"],[0.7777777777777778,\"#fb9f3a\"],[0.8888888888888888,\"#fdca26\"],[1.0,\"#f0f921\"]],\"diverging\":[[0,\"#8e0152\"],[0.1,\"#c51b7d\"],[0.2,\"#de77ae\"],[0.3,\"#f1b6da\"],[0.4,\"#fde0ef\"],[0.5,\"#f7f7f7\"],[0.6,\"#e6f5d0\"],[0.7,\"#b8e186\"],[0.8,\"#7fbc41\"],[0.9,\"#4d9221\"],[1,\"#276419\"]]},\"xaxis\":{\"gridcolor\":\"white\",\"linecolor\":\"white\",\"ticks\":\"\",\"title\":{\"standoff\":15},\"zerolinecolor\":\"white\",\"automargin\":true,\"zerolinewidth\":2},\"yaxis\":{\"gridcolor\":\"white\",\"linecolor\":\"white\",\"ticks\":\"\",\"title\":{\"standoff\":15},\"zerolinecolor\":\"white\",\"automargin\":true,\"zerolinewidth\":2},\"scene\":{\"xaxis\":{\"backgroundcolor\":\"#E5ECF6\",\"gridcolor\":\"white\",\"linecolor\":\"white\",\"showbackground\":true,\"ticks\":\"\",\"zerolinecolor\":\"white\",\"gridwidth\":2},\"yaxis\":{\"backgroundcolor\":\"#E5ECF6\",\"gridcolor\":\"white\",\"linecolor\":\"white\",\"showbackground\":true,\"ticks\":\"\",\"zerolinecolor\":\"white\",\"gridwidth\":2},\"zaxis\":{\"backgroundcolor\":\"#E5ECF6\",\"gridcolor\":\"white\",\"linecolor\":\"white\",\"showbackground\":true,\"ticks\":\"\",\"zerolinecolor\":\"white\",\"gridwidth\":2}},\"shapedefaults\":{\"line\":{\"color\":\"#2a3f5f\"}},\"annotationdefaults\":{\"arrowcolor\":\"#2a3f5f\",\"arrowhead\":0,\"arrowwidth\":1},\"geo\":{\"bgcolor\":\"white\",\"landcolor\":\"#E5ECF6\",\"subunitcolor\":\"white\",\"showland\":true,\"showlakes\":true,\"lakecolor\":\"white\"},\"title\":{\"x\":0.05},\"mapbox\":{\"style\":\"light\"}}},\"title\":{\"text\":\"Model Performance Comparison\",\"font\":{\"size\":18,\"family\":\"Arial\",\"color\":\"#DE3163\"}},\"margin\":{\"l\":15,\"r\":15,\"t\":50,\"b\":30}},                        {\"responsive\": true}                    ).then(function(){\n",
              "                            \n",
              "var gd = document.getElementById('baa73060-9f08-4a3d-8f1d-9f8b0eec7011');\n",
              "var x = new MutationObserver(function (mutations, observer) {{\n",
              "        var display = window.getComputedStyle(gd).display;\n",
              "        if (!display || display === 'none') {{\n",
              "            console.log([gd, 'removed!']);\n",
              "            Plotly.purge(gd);\n",
              "            observer.disconnect();\n",
              "        }}\n",
              "}});\n",
              "\n",
              "// Listen for the removal of the full notebook cells\n",
              "var notebookContainer = gd.closest('#notebook-container');\n",
              "if (notebookContainer) {{\n",
              "    x.observe(notebookContainer, {childList: true});\n",
              "}}\n",
              "\n",
              "// Listen for the clearing of the current output cell\n",
              "var outputEl = gd.closest('.output');\n",
              "if (outputEl) {{\n",
              "    x.observe(outputEl, {childList: true});\n",
              "}}\n",
              "\n",
              "                        })                };                            </script>        </div>\n",
              "</body>\n",
              "</html>"
            ]
          },
          "metadata": {}
        }
      ]
    },
    {
      "cell_type": "code",
      "source": [
        "import seaborn as sns\n",
        "import pandas as pd\n",
        "\n",
        "# Create DataFrame for the heatmap\n",
        "EC_metrics_data = pd.DataFrame({\n",
        "    'Model': ['Linear Regression', 'Elastic Net Regression', 'Random Forest'],\n",
        "    'MSE': [mse_lr, mse_en, mse_lr],\n",
        "    'R²': [r2_lr, r2_en, r2_rf],\n",
        "    'RMSE': [rmse_lr, rmse_en, rmse_rf]\n",
        "}).set_index('Model')\n",
        "\n",
        "# Plot heatmap\n",
        "plt.figure(figsize=(6, 4))\n",
        "sns.heatmap(EC_metrics_data, annot=True, cmap='coolwarm', fmt=\".2f\", linewidths=0.5)\n",
        "plt.title('Metric Comparison Heatmap', fontsize=16, color='#DE3163')\n",
        "plt.show()\n"
      ],
      "metadata": {
        "colab": {
          "base_uri": "https://localhost:8080/",
          "height": 393
        },
        "id": "jw50orpSpkW_",
        "outputId": "e6abb3e1-ea2e-4589-abf6-e30fe45d8c6f"
      },
      "execution_count": null,
      "outputs": [
        {
          "output_type": "display_data",
          "data": {
            "text/plain": [
              "<Figure size 600x400 with 2 Axes>"
            ],
            "image/png": "[encoded data removed]"
          },
          "metadata": {}
        }
      ]
    },
    {
      "cell_type": "code",
      "source": [
        "import matplotlib.pyplot as plt\n",
        "import numpy as np\n",
        "\n",
        "# Data for models and metrics\n",
        "EC_models = ['Linear Regression', 'Elastic Net', 'Random Forest']\n",
        "mse = [mse_lr, mse_en, mse_rf]\n",
        "r2 = [r2_lr, r2_en, r2_rf]\n",
        "rmse = [rmse_lr, rmse_en, rmse_rf]\n",
        "\n",
        "# X-axis positions\n",
        "x = np.arange(len(EC_models))\n",
        "\n",
        "# Bar width\n",
        "width = 0.25\n",
        "\n",
        "# Create grouped bar chart\n",
        "fig, ax = plt.subplots(figsize=(8, 4))\n",
        "bar1 = ax.bar(x - width, mse, width, label='MSE', color='skyblue')\n",
        "bar2 = ax.bar(x, r2, width, label='R²', color='orange')\n",
        "bar3 = ax.bar(x + width, rmse, width, label='RMSE', color='lightgreen')\n",
        "\n",
        "# Add labels and title\n",
        "ax.set_xlabel('Models', fontsize=12)\n",
        "ax.set_ylabel('Metric Values', fontsize=12)\n",
        "ax.set_title('Comparison of Metrics Across Models', fontsize=16)\n",
        "ax.set_xticks(x)\n",
        "ax.set_xticklabels(EC_models)\n",
        "ax.legend()\n",
        "\n",
        "# Add value annotations on top of bars\n",
        "for bars in [bar1, bar2, bar3]:\n",
        "    for bar in bars:\n",
        "        height = bar.get_height()\n",
        "        ax.annotate(f'{height:.2f}',\n",
        "                    xy=(bar.get_x() + bar.get_width() / 2, height),\n",
        "                    xytext=(0, 3),  # Offset the text a bit above the bar\n",
        "                    textcoords=\"offset points\",\n",
        "                    ha='center', va='bottom')\n",
        "\n",
        "# Show the plot\n",
        "plt.tight_layout()\n",
        "plt.show()\n"
      ],
      "metadata": {
        "colab": {
          "base_uri": "https://localhost:8080/",
          "height": 407
        },
        "id": "P_gVMBS6_Pey",
        "outputId": "46c23ff6-fcce-42ec-c95f-7da6378bccc3"
      },
      "execution_count": null,
      "outputs": [
        {
          "output_type": "display_data",
          "data": {
            "text/plain": [
              "<Figure size 800x400 with 1 Axes>"
            ],
            "image/png": "[encoded data removed]"
          },
          "metadata": {}
        }
      ]
    },
    {
      "cell_type": "code",
      "source": [
        "# Data for bar chart\n",
        "EC_models = ['Linear Regression', 'Elastic Net', 'Random Forest']\n",
        "mse = [mse_lr, mse_en, mse_rf]\n",
        "r2 = [r2_lr, r2_en, r2_rf]\n",
        "rmse = [rmse_lr, rmse_en, rmse_rf]\n",
        "\n",
        "# Plot stacked bar chart\n",
        "x = np.arange(len(EC_models))\n",
        "width = 0.5\n",
        "\n",
        "fig, ax = plt.subplots(figsize=(8, 6))\n",
        "ax.bar(x, mse, width, label='MSE', color='skyblue')\n",
        "ax.bar(x, r2, width, bottom=mse, label='R²', color='orange')\n",
        "ax.bar(x, rmse, width, bottom=np.array(mse) + np.array(r2), label='RMSE', color='lightgreen')\n",
        "\n",
        "ax.set_ylabel('Metric Values')\n",
        "ax.set_title('Metric Comparison (Stacked)', fontsize=16)\n",
        "ax.set_xticks(x)\n",
        "ax.set_xticklabels(EC_models)\n",
        "ax.legend()\n",
        "\n",
        "plt.show()\n"
      ],
      "metadata": {
        "colab": {
          "base_uri": "https://localhost:8080/",
          "height": 547
        },
        "id": "JJ5oC0tCp6ff",
        "outputId": "f18b7150-93be-434f-90a4-88cf5694ba76"
      },
      "execution_count": null,
      "outputs": [
        {
          "output_type": "display_data",
          "data": {
            "text/plain": [
              "<Figure size 800x600 with 1 Axes>"
            ],
            "image/png": "[encoded data removed]"
          },
          "metadata": {}
        }
      ]
    },
    {
      "cell_type": "code",
      "source": [
        "# Line Plot\n",
        "import matplotlib.pyplot as plt\n",
        "import numpy as np\n",
        "\n",
        "# Data for line plot\n",
        "EC_models = ['Linear Regression', 'Elastic Net', 'Random Forest']\n",
        "mse = [mse_lr, mse_en, mse_rf]\n",
        "r2 = [r2_lr, r2_en, r2_rf]\n",
        "rmse = [rmse_lr, rmse_en, rmse_rf]\n",
        "\n",
        "# Create the line plot\n",
        "fig, ax = plt.subplots(figsize=(6, 4))\n",
        "\n",
        "# Plot each metric\n",
        "ax.plot(EC_models, mse, marker='o', label='MSE', linestyle='-', color='skyblue')\n",
        "ax.plot(EC_models, r2, marker='o', label='R²', linestyle='--', color='orange')\n",
        "ax.plot(EC_models, rmse, marker='o', label='RMSE', linestyle='-.', color='lightgreen')\n",
        "\n",
        "# Customize the plot\n",
        "ax.set_title('Metric Comparison (Line Plot)', fontsize=16)\n",
        "ax.set_xlabel('Models', fontsize=12)\n",
        "ax.set_ylabel('Metric Values', fontsize=12)\n",
        "ax.legend(fontsize=10)\n",
        "ax.grid(alpha=0.3)\n",
        "plt.show()\n"
      ],
      "metadata": {
        "colab": {
          "base_uri": "https://localhost:8080/",
          "height": 416
        },
        "id": "ltTN_WJw_LiC",
        "outputId": "8cd00a09-5b52-4aad-97d1-4e047834a4ae"
      },
      "execution_count": null,
      "outputs": [
        {
          "output_type": "display_data",
          "data": {
            "text/plain": [
              "<Figure size 600x400 with 1 Axes>"
            ],
            "image/png": "[encoded data removed]"
          },
          "metadata": {}
        }
      ]
    },
    {
      "cell_type": "markdown",
      "source": [
        "### MSE COmparison"
      ],
      "metadata": {
        "id": "i14d-ejp8lOQ"
      }
    },
    {
      "cell_type": "code",
      "source": [
        "import matplotlib.pyplot as plt\n",
        "\n",
        "# Data for MSE\n",
        "EC_models = ['Linear Regression', 'Elastic Net', 'Random Forest']\n",
        "mse = [mse_lr, mse_en, mse_rf]\n",
        "\n",
        "# Plot\n",
        "plt.figure(figsize=(6, 3))\n",
        "plt.bar(EC_models, mse, color='skyblue')\n",
        "plt.title('MSE Comparison (Bar Plot)', fontsize=14)\n",
        "plt.ylabel('Mean Squared Error (MSE)', fontsize=12)\n",
        "plt.xlabel('Models', fontsize=12)\n",
        "plt.grid(axis='y', alpha=0.5)\n",
        "plt.show()\n",
        "\n",
        "\n"
      ],
      "metadata": {
        "colab": {
          "base_uri": "https://localhost:8080/",
          "height": 338
        },
        "id": "GtXweRMd8Ax1",
        "outputId": "96a8f47c-2022-4d84-d035-f3c84c07ffc3"
      },
      "execution_count": null,
      "outputs": [
        {
          "output_type": "display_data",
          "data": {
            "text/plain": [
              "<Figure size 600x300 with 1 Axes>"
            ],
            "image/png": "[encoded data removed]"
          },
          "metadata": {}
        }
      ]
    },
    {
      "cell_type": "code",
      "source": [
        "#Horizontal Bar Plot\n",
        "plt.figure(figsize=(6, 3))\n",
        "plt.barh(EC_models, mse, color='lightgreen')\n",
        "plt.title('MSE Comparison (Horizontal Bar Plot)', fontsize=14)\n",
        "plt.xlabel('Mean Squared Error (MSE)', fontsize=12)\n",
        "plt.ylabel('Models', fontsize=12)\n",
        "plt.grid(axis='x', alpha=0.5)\n",
        "plt.show()"
      ],
      "metadata": {
        "colab": {
          "base_uri": "https://localhost:8080/",
          "height": 338
        },
        "id": "D4f7Ts408oWh",
        "outputId": "45592dd0-3c09-4b29-afee-78ef9343fc44"
      },
      "execution_count": null,
      "outputs": [
        {
          "output_type": "display_data",
          "data": {
            "text/plain": [
              "<Figure size 600x300 with 1 Axes>"
            ],
            "image/png": "[encoded data removed]"
          },
          "metadata": {}
        }
      ]
    },
    {
      "cell_type": "code",
      "source": [
        "plt.figure(figsize=(6, 3))\n",
        "plt.plot(EC_models, mse, marker='o', linestyle='-', color='blue', label='MSE')\n",
        "plt.title('MSE Comparison (Line Plot)', fontsize=14)\n",
        "plt.ylabel('Mean Squared Error (MSE)', fontsize=12)\n",
        "plt.xlabel('Models', fontsize=12)\n",
        "plt.legend()\n",
        "plt.grid(alpha=0.3)\n",
        "plt.show()\n"
      ],
      "metadata": {
        "colab": {
          "base_uri": "https://localhost:8080/",
          "height": 338
        },
        "id": "BAHY6P338q4c",
        "outputId": "f177b336-0f99-4863-e5a9-df29b6a96d6c"
      },
      "execution_count": null,
      "outputs": [
        {
          "output_type": "display_data",
          "data": {
            "text/plain": [
              "<Figure size 600x300 with 1 Axes>"
            ],
            "image/png": "[encoded data removed]"
          },
          "metadata": {}
        }
      ]
    },
    {
      "cell_type": "markdown",
      "source": [
        "## R² Score (R-Squared) Comparison Plots"
      ],
      "metadata": {
        "id": "FEn26bc38vtv"
      }
    },
    {
      "cell_type": "code",
      "source": [
        "# plt.figure(figsize=(6, 3))\n",
        "# plt.scatter(EC_models, [r2_lr, r2_en, r2_rf], color='orange', s=100)\n",
        "# plt.title('R² Comparison (Scatter Plot)', fontsize=14)\n",
        "# plt.ylabel('R² Score', fontsize=12)\n",
        "# plt.xlabel('Models', fontsize=12)\n",
        "# plt.grid(alpha=0.5)\n",
        "# plt.show()\n",
        "import seaborn as sns\n",
        "import pandas as pd\n",
        "\n",
        "# DataFrame for R²\n",
        "r2_data = pd.DataFrame({'Model': EC_models, 'R²': [r2_lr, r2_en, r2_rf]})\n",
        "r2_data = r2_data.set_index('Model')\n",
        "\n",
        "# Plot\n",
        "plt.figure(figsize=(3, 3))\n",
        "sns.heatmap(r2_data, annot=True, cmap='coolwarm', fmt=\".2f\", linewidths=0.5)\n",
        "plt.title('R² Comparison (Heatmap)', fontsize=14)\n",
        "plt.show()\n"
      ],
      "metadata": {
        "colab": {
          "base_uri": "https://localhost:8080/",
          "height": 315
        },
        "id": "M-8ztvzR81eq",
        "outputId": "363df73a-9456-4872-f5ae-22449ca5ef03"
      },
      "execution_count": null,
      "outputs": [
        {
          "output_type": "display_data",
          "data": {
            "text/plain": [
              "<Figure size 300x300 with 2 Axes>"
            ],
            "image/png": "[encoded data removed]"
          },
          "metadata": {}
        }
      ]
    },
    {
      "cell_type": "code",
      "source": [
        "plt.figure(figsize=(4, 2))\n",
        "plt.step(EC_models, [r2_lr, r2_en, r2_rf], where='mid', color='purple', linewidth=2)\n",
        "plt.title('R² Comparison (Step Plot)', fontsize=12)\n",
        "plt.ylabel('R² Score', fontsize=10)\n",
        "plt.xlabel('Models', fontsize=10)\n",
        "plt.grid(alpha=0.5)\n",
        "plt.show()\n"
      ],
      "metadata": {
        "colab": {
          "base_uri": "https://localhost:8080/",
          "height": 256
        },
        "id": "-a5iVp6D9RHf",
        "outputId": "1446b1ba-b788-44de-a029-8b5911967bf0"
      },
      "execution_count": null,
      "outputs": [
        {
          "output_type": "display_data",
          "data": {
            "text/plain": [
              "<Figure size 400x200 with 1 Axes>"
            ],
            "image/png": "[encoded data removed]"
          },
          "metadata": {}
        }
      ]
    },
    {
      "cell_type": "markdown",
      "source": [
        "### Root Mean Squared Error (RMSE) Plots"
      ],
      "metadata": {
        "id": "XoTmxuND9l-H"
      }
    },
    {
      "cell_type": "code",
      "source": [
        "# plt.figure(figsize=(6, 3))\n",
        "# plt.pie([rmse_lr, rmse_en, rmse_rf], labels=EC_models, autopct='%1.1f%%', colors=['skyblue', 'orange', 'lightgreen'])\n",
        "# plt.title('RMSE Comparison (Pie Chart)', fontsize=12)\n",
        "# plt.show()\n",
        "\n",
        "# DataFrame for Box Plot\n",
        "rmse_data = pd.DataFrame({'Model': EC_models, 'RMSE': [rmse_lr, rmse_en, rmse_rf]})\n",
        "\n",
        "plt.figure(figsize=(6, 3))\n",
        "sns.boxplot(x='Model', y='RMSE', data=rmse_data, palette='pastel')\n",
        "plt.title('RMSE Comparison (Box Plot)', fontsize=12)\n",
        "plt.ylabel('Root Mean Squared Error (RMSE)', fontsize=10)\n",
        "plt.xlabel('Models', fontsize=10)\n",
        "plt.grid(alpha=0.3)\n",
        "plt.show()\n",
        "\n"
      ],
      "metadata": {
        "colab": {
          "base_uri": "https://localhost:8080/",
          "height": 474
        },
        "id": "cVX6tlEF9nWv",
        "outputId": "84a19cad-b795-4163-a85f-758ca3f4812a"
      },
      "execution_count": null,
      "outputs": [
        {
          "output_type": "stream",
          "name": "stderr",
          "text": [
            "<ipython-input-37-973eabdccce7>:10: FutureWarning:\n",
            "\n",
            "\n",
            "\n",
            "Passing `palette` without assigning `hue` is deprecated and will be removed in v0.14.0. Assign the `x` variable to `hue` and set `legend=False` for the same effect.\n",
            "\n",
            "\n"
          ]
        },
        {
          "output_type": "display_data",
          "data": {
            "text/plain": [
              "<Figure size 600x300 with 1 Axes>"
            ],
            "image/png": "[encoded data removed]"
          },
          "metadata": {}
        }
      ]
    }
  ]
}